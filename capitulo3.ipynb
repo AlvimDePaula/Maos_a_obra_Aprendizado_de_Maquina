{
  "cells": [
    {
      "cell_type": "markdown",
      "metadata": {
        "id": "view-in-github",
        "colab_type": "text"
      },
      "source": [
        "<a href=\"https://colab.research.google.com/github/AlvimDePaula/Maos_a_obra_Aprendizado_de_Maquina/blob/main/capitulo3.ipynb\" target=\"_parent\"><img src=\"https://colab.research.google.com/assets/colab-badge.svg\" alt=\"Open In Colab\"/></a>"
      ]
    },
    {
      "cell_type": "markdown",
      "metadata": {
        "id": "klXDA45sDzCL"
      },
      "source": [
        "# Capítulo 3 - Classificação\n",
        "Um notebook de estudo do capítulo 3 do livro \"Mãos a Obra: Aprendizado de Máquina com Scikit-Learn e TensorFlow\". Onde esse notebook tem como objetivo replicar os códigos expostos no capítulo da minha maneira, estudos das teorias apresentadas e resolução do exercícios."
      ]
    },
    {
      "cell_type": "code",
      "execution_count": null,
      "metadata": {
        "id": "iUUs3m3_Drst",
        "colab": {
          "base_uri": "https://localhost:8080/"
        },
        "outputId": "d8a5f16c-c061-4786-e0cb-b8302085b6fa"
      },
      "outputs": [
        {
          "output_type": "stream",
          "name": "stderr",
          "text": [
            "<ipython-input-2-641a4cc58a71>:18: DeprecationWarning: Please use `shift` from the `scipy.ndimage` namespace, the `scipy.ndimage.interpolation` namespace is deprecated.\n",
            "  from scipy.ndimage.interpolation import shift\n"
          ]
        }
      ],
      "source": [
        "import pandas as pd\n",
        "import numpy as np\n",
        "import matplotlib.pyplot as plt\n",
        "import matplotlib\n",
        "\n",
        "from sklearn.datasets import fetch_openml\n",
        "\n",
        "from sklearn.model_selection import train_test_split, GridSearchCV\n",
        "from sklearn.model_selection import cross_val_score\n",
        "from sklearn.model_selection import cross_val_predict\n",
        "from sklearn.metrics import confusion_matrix, classification_report, precision_recall_curve, roc_curve, roc_auc_score, accuracy_score\n",
        "from sklearn.linear_model import SGDClassifier\n",
        "from sklearn.ensemble import RandomForestClassifier\n",
        "from sklearn.multiclass import OneVsOneClassifier, OneVsRestClassifier\n",
        "from sklearn.preprocessing import StandardScaler\n",
        "from sklearn.neighbors import KNeighborsClassifier\n",
        "\n",
        "from scipy.ndimage.interpolation import shift\n",
        "\n",
        "import seaborn as sns\n",
        "\n",
        "import warnings\n",
        "warnings.filterwarnings('ignore')"
      ]
    },
    {
      "cell_type": "code",
      "execution_count": null,
      "metadata": {
        "id": "K7VO8OHUDytQ"
      },
      "outputs": [],
      "source": [
        "# Conjunto de dados MNIST\n",
        "mnist = fetch_openml('mnist_784', version=1);\n",
        "\n",
        "# Váriavel descritiva e váriavel target\n",
        "X, y = mnist['data'], mnist['target'];"
      ]
    },
    {
      "cell_type": "code",
      "execution_count": null,
      "metadata": {
        "colab": {
          "base_uri": "https://localhost:8080/",
          "height": 236
        },
        "id": "3EEr_tMIrbuT",
        "outputId": "354d3a7e-d472-4c66-8a1f-13e6a88d1b3e"
      },
      "outputs": [
        {
          "output_type": "execute_result",
          "data": {
            "text/plain": [
              "   pixel1  pixel2  pixel3  pixel4  pixel5  pixel6  pixel7  pixel8  pixel9  \\\n",
              "0     0.0     0.0     0.0     0.0     0.0     0.0     0.0     0.0     0.0   \n",
              "1     0.0     0.0     0.0     0.0     0.0     0.0     0.0     0.0     0.0   \n",
              "2     0.0     0.0     0.0     0.0     0.0     0.0     0.0     0.0     0.0   \n",
              "3     0.0     0.0     0.0     0.0     0.0     0.0     0.0     0.0     0.0   \n",
              "4     0.0     0.0     0.0     0.0     0.0     0.0     0.0     0.0     0.0   \n",
              "\n",
              "   pixel10  ...  pixel775  pixel776  pixel777  pixel778  pixel779  pixel780  \\\n",
              "0      0.0  ...       0.0       0.0       0.0       0.0       0.0       0.0   \n",
              "1      0.0  ...       0.0       0.0       0.0       0.0       0.0       0.0   \n",
              "2      0.0  ...       0.0       0.0       0.0       0.0       0.0       0.0   \n",
              "3      0.0  ...       0.0       0.0       0.0       0.0       0.0       0.0   \n",
              "4      0.0  ...       0.0       0.0       0.0       0.0       0.0       0.0   \n",
              "\n",
              "   pixel781  pixel782  pixel783  pixel784  \n",
              "0       0.0       0.0       0.0       0.0  \n",
              "1       0.0       0.0       0.0       0.0  \n",
              "2       0.0       0.0       0.0       0.0  \n",
              "3       0.0       0.0       0.0       0.0  \n",
              "4       0.0       0.0       0.0       0.0  \n",
              "\n",
              "[5 rows x 784 columns]"
            ],
            "text/html": [
              "\n",
              "  <div id=\"df-4b8414e2-d121-4aec-be84-afe54dd1b71f\">\n",
              "    <div class=\"colab-df-container\">\n",
              "      <div>\n",
              "<style scoped>\n",
              "    .dataframe tbody tr th:only-of-type {\n",
              "        vertical-align: middle;\n",
              "    }\n",
              "\n",
              "    .dataframe tbody tr th {\n",
              "        vertical-align: top;\n",
              "    }\n",
              "\n",
              "    .dataframe thead th {\n",
              "        text-align: right;\n",
              "    }\n",
              "</style>\n",
              "<table border=\"1\" class=\"dataframe\">\n",
              "  <thead>\n",
              "    <tr style=\"text-align: right;\">\n",
              "      <th></th>\n",
              "      <th>pixel1</th>\n",
              "      <th>pixel2</th>\n",
              "      <th>pixel3</th>\n",
              "      <th>pixel4</th>\n",
              "      <th>pixel5</th>\n",
              "      <th>pixel6</th>\n",
              "      <th>pixel7</th>\n",
              "      <th>pixel8</th>\n",
              "      <th>pixel9</th>\n",
              "      <th>pixel10</th>\n",
              "      <th>...</th>\n",
              "      <th>pixel775</th>\n",
              "      <th>pixel776</th>\n",
              "      <th>pixel777</th>\n",
              "      <th>pixel778</th>\n",
              "      <th>pixel779</th>\n",
              "      <th>pixel780</th>\n",
              "      <th>pixel781</th>\n",
              "      <th>pixel782</th>\n",
              "      <th>pixel783</th>\n",
              "      <th>pixel784</th>\n",
              "    </tr>\n",
              "  </thead>\n",
              "  <tbody>\n",
              "    <tr>\n",
              "      <th>0</th>\n",
              "      <td>0.0</td>\n",
              "      <td>0.0</td>\n",
              "      <td>0.0</td>\n",
              "      <td>0.0</td>\n",
              "      <td>0.0</td>\n",
              "      <td>0.0</td>\n",
              "      <td>0.0</td>\n",
              "      <td>0.0</td>\n",
              "      <td>0.0</td>\n",
              "      <td>0.0</td>\n",
              "      <td>...</td>\n",
              "      <td>0.0</td>\n",
              "      <td>0.0</td>\n",
              "      <td>0.0</td>\n",
              "      <td>0.0</td>\n",
              "      <td>0.0</td>\n",
              "      <td>0.0</td>\n",
              "      <td>0.0</td>\n",
              "      <td>0.0</td>\n",
              "      <td>0.0</td>\n",
              "      <td>0.0</td>\n",
              "    </tr>\n",
              "    <tr>\n",
              "      <th>1</th>\n",
              "      <td>0.0</td>\n",
              "      <td>0.0</td>\n",
              "      <td>0.0</td>\n",
              "      <td>0.0</td>\n",
              "      <td>0.0</td>\n",
              "      <td>0.0</td>\n",
              "      <td>0.0</td>\n",
              "      <td>0.0</td>\n",
              "      <td>0.0</td>\n",
              "      <td>0.0</td>\n",
              "      <td>...</td>\n",
              "      <td>0.0</td>\n",
              "      <td>0.0</td>\n",
              "      <td>0.0</td>\n",
              "      <td>0.0</td>\n",
              "      <td>0.0</td>\n",
              "      <td>0.0</td>\n",
              "      <td>0.0</td>\n",
              "      <td>0.0</td>\n",
              "      <td>0.0</td>\n",
              "      <td>0.0</td>\n",
              "    </tr>\n",
              "    <tr>\n",
              "      <th>2</th>\n",
              "      <td>0.0</td>\n",
              "      <td>0.0</td>\n",
              "      <td>0.0</td>\n",
              "      <td>0.0</td>\n",
              "      <td>0.0</td>\n",
              "      <td>0.0</td>\n",
              "      <td>0.0</td>\n",
              "      <td>0.0</td>\n",
              "      <td>0.0</td>\n",
              "      <td>0.0</td>\n",
              "      <td>...</td>\n",
              "      <td>0.0</td>\n",
              "      <td>0.0</td>\n",
              "      <td>0.0</td>\n",
              "      <td>0.0</td>\n",
              "      <td>0.0</td>\n",
              "      <td>0.0</td>\n",
              "      <td>0.0</td>\n",
              "      <td>0.0</td>\n",
              "      <td>0.0</td>\n",
              "      <td>0.0</td>\n",
              "    </tr>\n",
              "    <tr>\n",
              "      <th>3</th>\n",
              "      <td>0.0</td>\n",
              "      <td>0.0</td>\n",
              "      <td>0.0</td>\n",
              "      <td>0.0</td>\n",
              "      <td>0.0</td>\n",
              "      <td>0.0</td>\n",
              "      <td>0.0</td>\n",
              "      <td>0.0</td>\n",
              "      <td>0.0</td>\n",
              "      <td>0.0</td>\n",
              "      <td>...</td>\n",
              "      <td>0.0</td>\n",
              "      <td>0.0</td>\n",
              "      <td>0.0</td>\n",
              "      <td>0.0</td>\n",
              "      <td>0.0</td>\n",
              "      <td>0.0</td>\n",
              "      <td>0.0</td>\n",
              "      <td>0.0</td>\n",
              "      <td>0.0</td>\n",
              "      <td>0.0</td>\n",
              "    </tr>\n",
              "    <tr>\n",
              "      <th>4</th>\n",
              "      <td>0.0</td>\n",
              "      <td>0.0</td>\n",
              "      <td>0.0</td>\n",
              "      <td>0.0</td>\n",
              "      <td>0.0</td>\n",
              "      <td>0.0</td>\n",
              "      <td>0.0</td>\n",
              "      <td>0.0</td>\n",
              "      <td>0.0</td>\n",
              "      <td>0.0</td>\n",
              "      <td>...</td>\n",
              "      <td>0.0</td>\n",
              "      <td>0.0</td>\n",
              "      <td>0.0</td>\n",
              "      <td>0.0</td>\n",
              "      <td>0.0</td>\n",
              "      <td>0.0</td>\n",
              "      <td>0.0</td>\n",
              "      <td>0.0</td>\n",
              "      <td>0.0</td>\n",
              "      <td>0.0</td>\n",
              "    </tr>\n",
              "  </tbody>\n",
              "</table>\n",
              "<p>5 rows × 784 columns</p>\n",
              "</div>\n",
              "      <button class=\"colab-df-convert\" onclick=\"convertToInteractive('df-4b8414e2-d121-4aec-be84-afe54dd1b71f')\"\n",
              "              title=\"Convert this dataframe to an interactive table.\"\n",
              "              style=\"display:none;\">\n",
              "        \n",
              "  <svg xmlns=\"http://www.w3.org/2000/svg\" height=\"24px\"viewBox=\"0 0 24 24\"\n",
              "       width=\"24px\">\n",
              "    <path d=\"M0 0h24v24H0V0z\" fill=\"none\"/>\n",
              "    <path d=\"M18.56 5.44l.94 2.06.94-2.06 2.06-.94-2.06-.94-.94-2.06-.94 2.06-2.06.94zm-11 1L8.5 8.5l.94-2.06 2.06-.94-2.06-.94L8.5 2.5l-.94 2.06-2.06.94zm10 10l.94 2.06.94-2.06 2.06-.94-2.06-.94-.94-2.06-.94 2.06-2.06.94z\"/><path d=\"M17.41 7.96l-1.37-1.37c-.4-.4-.92-.59-1.43-.59-.52 0-1.04.2-1.43.59L10.3 9.45l-7.72 7.72c-.78.78-.78 2.05 0 2.83L4 21.41c.39.39.9.59 1.41.59.51 0 1.02-.2 1.41-.59l7.78-7.78 2.81-2.81c.8-.78.8-2.07 0-2.86zM5.41 20L4 18.59l7.72-7.72 1.47 1.35L5.41 20z\"/>\n",
              "  </svg>\n",
              "      </button>\n",
              "      \n",
              "  <style>\n",
              "    .colab-df-container {\n",
              "      display:flex;\n",
              "      flex-wrap:wrap;\n",
              "      gap: 12px;\n",
              "    }\n",
              "\n",
              "    .colab-df-convert {\n",
              "      background-color: #E8F0FE;\n",
              "      border: none;\n",
              "      border-radius: 50%;\n",
              "      cursor: pointer;\n",
              "      display: none;\n",
              "      fill: #1967D2;\n",
              "      height: 32px;\n",
              "      padding: 0 0 0 0;\n",
              "      width: 32px;\n",
              "    }\n",
              "\n",
              "    .colab-df-convert:hover {\n",
              "      background-color: #E2EBFA;\n",
              "      box-shadow: 0px 1px 2px rgba(60, 64, 67, 0.3), 0px 1px 3px 1px rgba(60, 64, 67, 0.15);\n",
              "      fill: #174EA6;\n",
              "    }\n",
              "\n",
              "    [theme=dark] .colab-df-convert {\n",
              "      background-color: #3B4455;\n",
              "      fill: #D2E3FC;\n",
              "    }\n",
              "\n",
              "    [theme=dark] .colab-df-convert:hover {\n",
              "      background-color: #434B5C;\n",
              "      box-shadow: 0px 1px 3px 1px rgba(0, 0, 0, 0.15);\n",
              "      filter: drop-shadow(0px 1px 2px rgba(0, 0, 0, 0.3));\n",
              "      fill: #FFFFFF;\n",
              "    }\n",
              "  </style>\n",
              "\n",
              "      <script>\n",
              "        const buttonEl =\n",
              "          document.querySelector('#df-4b8414e2-d121-4aec-be84-afe54dd1b71f button.colab-df-convert');\n",
              "        buttonEl.style.display =\n",
              "          google.colab.kernel.accessAllowed ? 'block' : 'none';\n",
              "\n",
              "        async function convertToInteractive(key) {\n",
              "          const element = document.querySelector('#df-4b8414e2-d121-4aec-be84-afe54dd1b71f');\n",
              "          const dataTable =\n",
              "            await google.colab.kernel.invokeFunction('convertToInteractive',\n",
              "                                                     [key], {});\n",
              "          if (!dataTable) return;\n",
              "\n",
              "          const docLinkHtml = 'Like what you see? Visit the ' +\n",
              "            '<a target=\"_blank\" href=https://colab.research.google.com/notebooks/data_table.ipynb>data table notebook</a>'\n",
              "            + ' to learn more about interactive tables.';\n",
              "          element.innerHTML = '';\n",
              "          dataTable['output_type'] = 'display_data';\n",
              "          await google.colab.output.renderOutput(dataTable, element);\n",
              "          const docLink = document.createElement('div');\n",
              "          docLink.innerHTML = docLinkHtml;\n",
              "          element.appendChild(docLink);\n",
              "        }\n",
              "      </script>\n",
              "    </div>\n",
              "  </div>\n",
              "  "
            ]
          },
          "metadata": {},
          "execution_count": 3
        }
      ],
      "source": [
        "X.head()"
      ]
    },
    {
      "cell_type": "code",
      "execution_count": null,
      "metadata": {
        "colab": {
          "base_uri": "https://localhost:8080/"
        },
        "id": "vwNWjTV6HeEu",
        "outputId": "b0977ce6-793f-4b48-d05e-ae93964aaeb1"
      },
      "outputs": [
        {
          "output_type": "stream",
          "name": "stdout",
          "text": [
            " Dimensão de X: \n",
            " (70000, 784) \n",
            "\n",
            " Dimensão de y \n",
            " (70000,)\n"
          ]
        }
      ],
      "source": [
        "# Dimensões\n",
        "print(' Dimensão de X:', '\\n', X.shape, '\\n\\n', 'Dimensão de y', '\\n', y.shape)"
      ]
    },
    {
      "cell_type": "code",
      "execution_count": null,
      "metadata": {
        "colab": {
          "base_uri": "https://localhost:8080/",
          "height": 458
        },
        "id": "lpp_nWAZLSb9",
        "outputId": "e26f2dfd-5444-4637-a2bc-4eba6aba4a52"
      },
      "outputs": [
        {
          "output_type": "stream",
          "name": "stdout",
          "text": [
            "Número da imagem é: ['9'] \n",
            "\n",
            "\n"
          ]
        },
        {
          "output_type": "display_data",
          "data": {
            "text/plain": [
              "<Figure size 640x480 with 1 Axes>"
            ],
            "image/png": "[encoded data removed]"
          },
          "metadata": {}
        }
      ],
      "source": [
        "# Imagem dos números que estão sendo utilizados\n",
        "num_aleatorio = np.random.randint(70001, size=1)\n",
        "\n",
        "y_imagem = np.array(y[num_aleatorio].values)\n",
        "print(f'Número da imagem é: {y_imagem}', '\\n\\n')\n",
        "\n",
        "some_dig = np.array(X.iloc[num_aleatorio])\n",
        "some_imagem = some_dig.reshape(28, 28)\n",
        "\n",
        "plt.imshow(some_imagem , cmap=matplotlib.cm.binary, interpolation='nearest')\n",
        "plt.axis('off')\n",
        "plt.show;"
      ]
    },
    {
      "cell_type": "code",
      "execution_count": null,
      "metadata": {
        "id": "eKchzdBwHn6H"
      },
      "outputs": [],
      "source": [
        "# Conjunto de dados já tem sua separação em dados de teste e treino\n",
        "X_train, X_test, y_train, y_test = X[:60000], X[60000:], y[:60000], y[60000:]\n",
        "\n",
        "# Embaralhar o conjunto de TREINO\n",
        "shuffle = np.random.permutation(60000)\n",
        "X_train, y_train = X_train.iloc[shuffle], y_train.iloc[shuffle]"
      ]
    },
    {
      "cell_type": "markdown",
      "metadata": {
        "id": "CXyrSW6KaoCR"
      },
      "source": [
        "# Classificador Binário\n",
        "\n",
        "Quando valor de saída pertence a uma classe que possui dois valores possíveis.\n",
        "\n",
        "Afim de simplificar o problema, iremos criar um algoritmo para classificar se o número é ou não é **3** (Classificação binária)."
      ]
    },
    {
      "cell_type": "code",
      "execution_count": null,
      "metadata": {
        "id": "lopC-iNfbIVG"
      },
      "outputs": [],
      "source": [
        "# Buscando as instâncias que tenha como y == 3\n",
        "y_train_3 = (y_train.astype('int32') == 3)\n",
        "y_test_3 = (y_test == 3)"
      ]
    },
    {
      "cell_type": "code",
      "execution_count": null,
      "metadata": {
        "colab": {
          "base_uri": "https://localhost:8080/"
        },
        "id": "XUvouEQVcOkC",
        "outputId": "e3f882d6-f74d-43fe-9530-1916c4c4605f"
      },
      "outputs": [
        {
          "data": {
            "text/plain": [
              "array([0.95985, 0.95485, 0.9626 ])"
            ]
          },
          "execution_count": 8,
          "metadata": {},
          "output_type": "execute_result"
        }
      ],
      "source": [
        "# Instanciando o Algoritmo Gradiente Descendente Estocástico\n",
        "sgd_claf = SGDClassifier(random_state=14)\n",
        "\n",
        "# Treinamento\n",
        "sgd_claf.fit(X_train, y_train_3)\n",
        "\n",
        "# Acúracia\n",
        "cross_val_score(sgd_claf, X_train, y_train_3, cv=3, scoring='accuracy')"
      ]
    },
    {
      "cell_type": "markdown",
      "metadata": {
        "id": "jZjokoVyTp5y"
      },
      "source": [
        "- Classificador GRadiente Descendente Estocástico lida bem com grandes conjuntos de dados.\n",
        "- Em vez de pegar todo conjunto de dados, ele pega somente uma parte desses dados para fazer cada atualização dos pesos.\n",
        "- A idéia é buscar menor função de custo utilizando lotes de dados. A cada iteração dar passe \"tortos\" a caminho do melhor valor possível de função de custo.\n",
        "- Exige menos capacidade computacional e tende ser treinamentos mais rápidos."
      ]
    },
    {
      "cell_type": "code",
      "execution_count": null,
      "metadata": {
        "colab": {
          "base_uri": "https://localhost:8080/"
        },
        "id": "J4ymY9KHjd3N",
        "outputId": "840980ad-30d1-412d-8915-c922a66690d0"
      },
      "outputs": [
        {
          "name": "stdout",
          "output_type": "stream",
          "text": [
            "Acúracia base: 89.782%\n"
          ]
        }
      ],
      "source": [
        "# Lista de 60000 valores falsos para fazer a acúracia base\n",
        "lista_false = [False]*60000\n",
        "\n",
        "# Acúracia base\n",
        "acuracia_base = ((y_train_3 == False).sum() / lista_false.count(False)) * 100\n",
        "\n",
        "print(f'Acúracia base: {round(acuracia_base, 3)}%')"
      ]
    },
    {
      "cell_type": "markdown",
      "metadata": {
        "id": "0bQH0sRBo-IQ"
      },
      "source": [
        "- Acúracia base bem alta e bem perta da acúracia calculada com SGDClassifier. Acúracia maioria das vezes não vai ser uma boa métrica de desempenho para classificadores."
      ]
    },
    {
      "cell_type": "markdown",
      "metadata": {
        "id": "fsimU9U4ozSO"
      },
      "source": [
        "### Matrix de confusão"
      ]
    },
    {
      "cell_type": "code",
      "execution_count": null,
      "metadata": {
        "colab": {
          "base_uri": "https://localhost:8080/"
        },
        "id": "Iw1expNwk_c8",
        "outputId": "252f3284-9321-4bc1-d96b-eb9d867ed4ae"
      },
      "outputs": [
        {
          "data": {
            "text/plain": [
              "array([[52417,  1452],\n",
              "       [ 1002,  5129]])"
            ]
          },
          "execution_count": 10,
          "metadata": {},
          "output_type": "execute_result"
        }
      ],
      "source": [
        "# Predição do y de treino\n",
        "y_train_pred = cross_val_predict(sgd_claf, X_train, y_train_3, cv=3)\n",
        "\n",
        "# Matrix de Confusão\n",
        "conf_matrix = confusion_matrix(y_train_3, y_train_pred)\n",
        "conf_matrix"
      ]
    },
    {
      "cell_type": "markdown",
      "metadata": {
        "id": "3ZU294PqadVk"
      },
      "source": [
        "![image.png](data:image/png;base64,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)"
      ]
    },
    {
      "cell_type": "markdown",
      "metadata": {
        "id": "B2zUAQEEbPv-"
      },
      "source": [
        "- 51904 -> Verdadeiros Positivos -  Eram Não 3 e foram classificados como Não 3\n",
        "- 5245 -> Verdadeiros Negativos - Eram 3 e foram classificados como 3\n",
        "- 886 -> Falso Positivo - Foram classificado como 3 mas eram não 3\n",
        "- 1965 -> Falso Negativo - Foram classificados como não 3 mas era 3\n"
      ]
    },
    {
      "cell_type": "markdown",
      "metadata": {
        "id": "XSDH8ddbnE5g"
      },
      "source": [
        "![image.png](data:image/png;base64,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)\n",
        "\n",
        "![image.png](data:image/png;base64,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)\n",
        "\n",
        "![image.png](data:image/png;base64,iVBORw0KGgoAAAANSUhEUgAAAmAAAACSCAYAAADirnbrAAAAAXNSR0IArs4c6QAAAARnQU1BAACxjwv8YQUAAAAJcEhZcwAADsMAAA7DAcdvqGQAAESASURBVHhe7d0JXE3pGwfwX1K27Lt2+1rZtxjD2BlrM3YmZMYUI8sg/O1qkDEyBoMYa4ys2VVTVMhUSIVKaVGk5bZ37/M/53Yips0yF+P5+vRx73vOPefc95x73+e+21EjARhjjDHGmMqUkv5njDHGGGMqwgEYY4wxxpiKcQDGGGOMMaZiHIAxxhhjjKkYB2CMMcYYYyrGARhjjDHGmIpxAMYYY4wxpmIcgDHGGGOMqRgHYIwxxhhjKsYBGGOMMcaYinEAxhhjjDGmYhyAMcYYY4ypGAdgjDHGGGMqxgEYY4wxxpiKcQDGGGOMMaZiHIAxxhhjjKkYB2CMMcYYYyrGARhjjDHGmIpxAMYYY4wxpmIcgDHGGGOMqRgHYIwxxhhjKsYBGGOMMcaYinEAxhhjjDGmYhyAMcYYY4ypGAdgjDHGGGMqxgEYY4wxxpiKcQDGGGOMMaZiHIAxxhhjjKkYB2CMMcYYYyrGARhjjDHGmIpxAMYYY4wxpmIcgDHGGGOMqRgHYIwxxhhjKsYBGGOMMcaYinEAxhhjjDGmYhyAMcYYY4ypGAdgjDHGGGMqxgEYY4wxxpiKcQDGGGOMMaZiHIAxxhhjjKkYB2CMMcYYYyrGARhjjDHGmIpxAMYYY4wxpmIcgDHGGGOMqRgHYIwxxhhjKsYBGGOMMcaYinEAxhhjjDGmYhyAMcYYY4ypGAdgjDHGGGMqxgEYY4wxxpiKcQDGGGOMMaZiHIAxxhhjjKkYB2CMMcYYYyrGARhjjDHGmIpxAMYYY4wxpmIcgDHGGGOMqRgHYIwxxhhjKsYBGGOMMcaYiqmRQHr8CUpEwL6fsXGPM87fiQOqtUL39jooq1yWhqjrnriTMASbbmzE0DqllansA6CIhJuDA7Y7HcVf4TJA3RDtezVFlWdBuHw9HjqfjcXUGRYY27Ee+Ky9Lf6MMMbYv0IMwD518pCdNFi7DumYH6UYKU2keHqO5jQeTJv8ZVLKB04RSx7LvyR9vQE0Z+8Nint6hWyH/ky+GQpphbeVQTHeu2nhUBPSEfNLrwdN3eRO0dkl3b6CsmO8yHHhSDISX6/dkLpNcSCP6Axp+etQkMxjOTUTttNyjbdwZKIcSgk9Rcv6NRGObQjZesULa30KsinOYw3102tCfefsJd+4aPK2/ZbW+yZLy9+eInQvmRX0GYk6ShaG08k5JltKYYwxVhLcBCkoVbEKakqP81Or1gYDR2ohK+djqCQkZN06CoeM0dizuRdi1w5BG6PZCB0zAK3KqEnrvA1CRuAfmLE0APpTf4Hzwd9g/UUGzth+ix8O3YdCWqtIGbexc8Za3NKfgM3HnLBldg+knFmJcT8cQViJNpCfGsqUrwAN4VEpzdJQV6apQ8uwHyyth6GC3Adbfr2MR//aqZNDJuTHnO0BwqP3LOsODjmkwvwPO/SJ/QVDWrfHt6GfY1grLWmFt6dWrjwqSo/zU6vbDv17KZCa/t5zgTHGPiocgBWpClqMmIYeerkNLh82NWjUH4SVM4ah+yBr7PH0govrSWw2a6QMUt5eCoK9MjFpxypYDOiGdqZD8MMiS3TGM1y9fBtx0lqFI6QH+yFp0gbYWgyGabtuGPTDfMzpUhnyK1fhH5cjrfe21FG1aWu0Fx7JfW7hQcprR3Yloog8gTljFuBCSrbwzt4zDUMMWmmFYd2HwHrPJVw9444Lm81gqPEuAu9iqNWFqdU4tKqYGwIzxhgrGQ7AilQaNdt8hjY1Po6+LWpaumhYu8zzx60a1XiHfaAqwXjy9xhQL3f7L1RF525NUV16Vjg1lDMej7kD9P5xTOpd2qN59XdXgKtpaEBTfJAhQ1rmvxMeKeLD4PXkA6n1UasEg4a1cvNVTQu6rRqgRmkVBF9KpVHDqCuMPpLPCGOMfSg4ACtUDmKOrcbmgFTpeT45cfA/tgEz+htDV6eu8KcD475mGN53I26KFTmyADgtnwkz00bQNbLPTRM7jv+6HHPG94GxTktMPhap3FQuOWRh7thn+z36G+lAV78XZuy7Bdk/YodMxPsfh/3Uz2Gg3G8jdJ/6G7zjpdojSkGY217YWg4S9lEXBt1nYV9g0is1NIScWG/sthmFfsMmwnxYFzToPg32LsEF7K8IOVFw++M40ix+wcZxTd+gli0TMW6HcCBtAnZtHI3G77C2Rv4sHhHig0bNYFhNCuxyouGz2wZmfUfA3HwoTOt/Dgt7F4TIpCCK4hHgsh9bl38nnAMrON8LwoVN36K7vpjPrWFm54oYZVN0GkIcJ6Lhl2uRIDxLsB8EQzGvh+xCiDwRAU5rYD2yi3B++sD+pkxYIxORbtuwfM549BPP7WRnxIr7k5AsFG57bWGpvJaE82m1H4F5x/SccM7i/XHMfpp0POK5/RabvR9L57aE109xefDaCFl3/8RvnvHSc8YYYyXFAVghSBaM8yf/RuYr/b9Idgu7v/sa8/0bY9bhm4h8FI6bp5ajY7gnrsdIBZlWKwyf1hcGCWIBLCmlix4WFhjasryy4H5BCERc7WDWaysS+6+Cy00v7ByvDucff4D9lafSOgJKQuA+G0zfkYCOS04iLMgHRzZMQO3gYMRmCPsVAiLXFePwhYMM/W2Pw/e6I8bBGfPHbcKV581wQkEeeQzW/b7DRYMFOHJ0N3Y6u8JjfjXss5gE6z0FBX0vI1kErrlsg43ZIEzYEY3KFIOIJ1nS0hIgGSKvncJ2m3HoN34XEitnISLiqRDuvisy3LnkgiCxZm5cNzQU46+cMBybNRJjLjbA0j+dsHOnM9w856Dy3un4etY+KeDRRLnyabh38QxuJ1zC+qV7Ed5gLDY47cCPfcvCe5M1lp6KFHKwPBpP2o37J+aimvCqatanEPYoBuHHv0Fj9SowGi6cA0MxJMpTBro9JuK7ocZQS8gf6AjnIuYiVpp9jc1JfWDrcg3Xdo0FnOdh/PqrSJHWUgZXgQdg/d0fSOy4EC7h93D1z58xuVY4bsWmC1sp4fVTojx4TTkxuHr4IK4/yZASGGOMlRQHYPmdm472ypqlutBr+gUWnUuSFkgoDu62M7Do/pdYNW8ADLXE0r0MarY0RtOXWubUULp6bdR9tVWmdA00bKItPcmThui//0bciIn4yqgK1ErroPvgnqiCYJzzeyQV5HI8u7IZ3y7XgMXSCeiqqwU1LT10NFuMw39twFBdYecZUfjbK00I/IbASDiu0nU7YfCABkDcNfiFpSu3AorEqZXL4Zw1HNPGGEFLWelUBvX6W2B+zxScWWKP4+GZylULlf4YkUnV0X7CbPz4pRaubJ+Hr7/ZAM+8WrhipSImMhU12o/CvB8HQMtzKxZ99R1sPfNqc15fdsxjPBUCZTE49HGyw49rb6BG//lYOrIxNJCN6FMbMNtZExOnDUML5TkTzk+93pixoC+enbHFsuOhUKhVRqMefWHaSOy4boqZtv/D1AHd0LbjAEyfb4HWiMVFzyAkKvdYhNJVUafuq53fhWukYQPUk57lImRE38HVx71h8ZV4Lsqgbvf+GFBFjrhz/giT4iF6dgUbvv0VZabNxcSu+sJ6WtDt+DUWHzmL34YaCB/gklw/JcwD5brFyPcZ0TVoi/Hb7koLGGOMvQ4OwPLr+yuuP4pBpPgXeRsHLF4OlhT3T8PeMQgVe7RHk3LvqsmsKtpaH4bv2r6oKWySZGG4euWOUKzKIcvKyQ1KFKFw2bQXYR1ao2lVqUntVVodYH3mAtb2risUrWKT1HVcufVEWJDxfBQnxfrC5Wws0LklGlbId/xqddDStJkQ53nikHt4kQWxWs32GDF6BIYOGwfLX/bjkFVbyG/txXY3sXZIJOw78g5u3vTN93cPT/JqEtVqo8OIrzFs6AiMtbLHYafZaCi/ht+3ub/xiMXMe0ewZlRXGDbthdlOaeiz8TTObxmP5mKgQbG4dtodWWgBo4b5x/Fpol7LtmgkDiI46IkHL71pDWjkaxLNGyWb9SwVxYSnr6EUtNrOxJmbq9G7phCpi83HV6/iVpqwSJaF3OzKRLjLLuwIbY4OTasJ57UgJbh+3igPCpH/M/IoFJdXdpEWMMYYex0cgBVGrRrajZ+J3s9HQMrx9F4AAoRHGhXL4dWu6G9FLHw9j8DBZhK+mnUQEajw8vafhsDL+5lQXgqBQcGlsJLYn8jzsANsxo+B9cH7QtlcXlqSSx4TBp8CW5o0ULVWLeF/GR4myEpWEyJSqwqTHqaogqfwi0wQckhA4Tg+ewSGfDnoxd/0U4gocL/qqGjSDX2rCMfm9wjxBa5TPK3u32PdkasIf3QPnkfWY9ZQY9TM64Quj0OoT8FjNNWr1oSe+ODhM/xLgyWLIQbKV3DYYSHGm83FwQgFqr404PYp7nr5CWu9HBD+Q3HXz7+WB+XQoNcEDK0vBXVi87LPIawYvzm33yNjjLFCcQBWKDWUNTRBqxrqyHkSiSiZHKU1NJXzTSX5PUDMG9bW/FMy/DdPxudjnZDafzUObF+IsT3EprN8SmugrLhjr9u4n1rIjtP/xuZRAzBufyb6r92DbQvGoUdewSgpVbEq9MUHd6MQV2CwUwsd69eS5tR6HXro3UpHGoXXAGOdgqQaEunPexbaFDMXmWafljD8NwbSldJCNX2xSTASj+IKrr9S72iIuq//pt8SId3/N4zqMRUHUvti7cEtWDC2B+q/lAfq0Cgrjue8g4D7L3qFvawE18+/mAeldE0x2EiIoAX0NBS37/rjiv+7qydkjLH/Kg7AiiP2m7JZgQsxClQx6Y6BQnkodz+MIzefSU1uhVArDU2xCSwzHk+T86IdQnZ2tvRYIg+Dx/6rkFdsgx7t6xY8bUSVpjDtXUcoa49g6/6AfB3lxY7cvnC/m4Sce1dwwC8JFTuaon2dguvnShl0wvAuVYEID3iH5B/dmYL7/neEKKgzerepVUhTlxyyx3GvdNJPQ6j/30jpNBXm3cQatKKRLA6PX+rsLeRHqD88U3rhR/MuEI5MmZYTfwtuV0Nfb1RmYUrposuILkIocxdnvcPwIvcJqfdvw0sIOnv0MUbtouPDQimycnJr/p5TQ2lNsRorBTFPU4W95CLhvL88VCEN9zzOwV9eFx16mKBOgdNGVEML047QRDB2b3XGnfx5lxONa+7BkOWU4Pr5l/Mgj1oNI/Tv1x6v9nJkjDH2T+pLBdLjTxbF38S+XefxqGIHmJm1QU31vJIoEzEXN2H21iowm90T+lV00bReNE6eOYtL5/3xtFwlaCmS8PiBL845u+F+6a4YPa0z6ophbSkNZD1yxZ/e13D/mTrKpEXC7+Ju2G9wRnR6DhSVaqOKXBM1G9ZEmv8pnPK7h8Ty9VA7KwhnDx/GxdsxyMyphFokQ45Oa3Q2roL7p0/g4plzcA9LRHZqHAI992PtMh/U/rI3jGsmwX/XCfjdS0U5w2rICrmEw/vO4U58CuRalaFIUoNOs+Zo1bIyQs/sxfGIOujesyVqaqoJZfllbP6fG3RtVuOHbnUKLsSfuWPZF19h44OyqF2jpvCXhftntmLNMR0s/2Uq2lctrvoqDu7LvsKgn++icp2aqFG7CrLvn8XmNRegv3wNvm9fI/fXgOI+Dkwege/tXZHVcRA+03u5GfUFIXiL+AtbnXyQ03IYzHvo5c799Q8aqNawIao9uIQDxyNRs3s3Ia/KQi0nEhc3b4C77gz88kM3ad6sZASd2IczDwwwwKI/mmpJv09kQTix7TQeNBwIiyHNINYlia/3djyLu/HlYdCsIp4FhCJLVw/VSpdG+axQHD5yATfup6B82VRE+l3AzvWbcCpaJhx2ZdSpUgoaNQ1QN80Pu066435SJRjWzkDI2T+x/8ItxGeWQsXaCiTm6KBd5+aocc8d5y4ch4t7GJKyZYgPdMe+tRvgUbs3BhpXQ2Kx109TtGjVqIR5ULDnn5Han2P8SCNULWxVMa/+SESHvM8BY4yxAn3aAZg4X5etLey27IVnfCoQ64HTF6/jhpsLTpw4juOO67Ho14uQDbPEokENUU7sK9XcFH2NKiPxznkcOrgff3rFoULdCkgUAq0H+QMwlIdui4YoFeKO46dO4ty1HDT90hxTuqZi//VSMKqmQJqGAUw6tIJJm0aQ3zqNAwcvI7yCCUZYmqNHmi9cfHPQpHc/9GhVF5VrtsDnPZtDM+5vnD51GpfP3USS4SDM/ska/fXLQ62CPkyM1XHL5Q8cuhCFCsZDYTm9K1Ldz+OmojG+GNAdrepURNmaLYXtNEXO1c2YsfwArl8/jh0H49FhkR1+HNIY5QsrWMtWQBXNOLjud8D2nTtw4HI8tFoNw2ybEWhZubjgS1QGWlXUkOC6Dw7btmHHfk/EaRlh+GxrmLWsmq8qNhOPr5/F8Zjm+GpSPxhVLyCsUkTCdd3/sOCXQ7ifmIUs/xvwuReKxxUao71B5X/U4Klp1oZxz25omnMVm6xWwOnGVRz9/TjiOszGz/MHo2H5UsImXbHJbi22H7+DJIpE0EMZKhi2hP7jY1i2ZCOOP3wGCn+Ah8nlYdiuGerUqIN6CMJFF2ecvJEGnQ6m6NC0NiqUKoUyuk1grB6GS8edcfbcLaQ3G4hvp3TEk/1/o6xRVWSnlYOhSRu0MDGGsTwIZ/bvx4UwLRiPnIbpPQjuLn6QN+2BAT1aoE7lOmglHrvmU9w4dQznL12AT1IDDJq9Agv614emmhYMWxd3/dRBhbLF50GBxPnrNtlh5QZHuIufkUg/XAuMQFRWLZi0qP3PoJcDMMYYKxE18YaQ0mP2pnJ8Yd9mEDZgLo7ftEabIuIRSk1CcplKqPzGM5XLEOI4G/NgjaOTmnAb8seC0pCYXBpVKhdcT1c8QkbIH5g6T44lR79Bow/1xMc6Y3KfMHxfzOeAMcY+dVx+q5hahcpvEXwJFE8Q6B0Av0POuFriubfYe6dW/i2CL1EW4gNv4vbfx3Do6pvPmcYYY+zDwAHYx6aUPgbNnob2tw7h4PXib4HN/ivKQHfQt5jZPhi/H7wBcYa3Dw098ceJI5cRLPPGqYMeCMvgMJExxgrDAdi7IM9BljiHkiIL2fJ/t9ARJ9r0OOmKiP6zML17bSmV/eeJc315nMGFiM+xbLopakjJHxK1Gsb40nITPEOdsGRcNxiWfYuaXsYY+4/jPmBvRbzR8k5s2b4P+90fQI5aaNF3GMbP/AFjpbmR3jnZXVzwyIZJ71YvJhtln4Ak3L1wHdkm3WBU851OA8wYY+w94ACMMcYYY0zFuAmSMcYYY0zFOABjjDHGGFMxDsAYY4wxxlSMAzDGGGPsfckOg9vZwCLufSve89cHF24lSs/ZfwUHYOw9yUT8zQNYNKw1dHXqQtdoFOzcosBTy7LXQfHuWNn/c1jsu4sMKa1wOYj3tEV//c6Y7OCKsJgb2L7yJCJ5GJIKcN4XRhHuBvspQ9Bv+ERMnmwO82FdYKDTCKbDcp9PHtsXbdvPgttT4duRouH56wKMNW0kfG9K65gPhal+awy32QOf2Expq+xjwAEYew8I2aF/Yu6Sm2gw/VccO+gAS+MwOExciL0hadI6jBWPMhLwKOYxIh+nFB+800Oc31cGNpd/Rs+H6/B5pwW4174NdHg2l38f530hcvD4jh9SrfbgzNHd2LFjG1ZPbA05mmHUsl+F5zuxY68j1gzTQfVKZQG1ejCdboPZww0BzeH4305h+U5nuHmtRIMzC/H1jAMIyeao9mPB01Aw1aPHuPC/Hcj+djYG1Mud04oinTDJdB6ibU7jrEULqCtTGXuX5EhNTEOZKhXBt6lUNc77gj2Dp90WJE+YiwF1NYTnSfCxHY6R29php+9q9K4qfhOmImDzZjz6Svi+rCk+j4aL5UBMezgDl4/n3RdWep1Dbaxw3YlJjYRgjX3wuAaMqZ5abfRevvB58CVSq9sAxpUzESfL4PscfozEm40nZUlPPlTqqPCvBQDpCL/mh5icAq5eSsJdd9+Cl30y/s28/5hVhemPwnehMvgS0DNE3IkB6jeATqW8n6EVYPT9PCn4EmRGIsAtFhWMDFD7eQmuDg1NcXk2sj7p6+zjwgEY+zCkJeNpph56t9LhL+mPiCLSFb8u+w79jTvD2tkDbo42GG6kA119U4y3PYEQmVxYKxVhnoewzW4exvZdD1f//ZjRvREM+m+Er0y8h5ccspATsJsxB8vXzMJw01FYcTwoX6dkcbkLNlgNgrHYX1CnNYYvPoWwlFB4HtiCFZaDYGrv+7wJkmR3cGTxd7BcthxzhrVH6xmnEKPclrCdMHc42pjlbqeAfockC4bLhlmYaLkYaxaOR79BM+Fw4UERHaQl2Y9wfccsmK++9EqglYkYt82Yu/Y0AmKK6p9DyAjzwIFtdlg4dhzsXa9gn1UvGOiPgL3vs9w1ZEE4bjcHc5TvqxfMlgv5G/M3nJaZo7u+8H7qD8XcQwGQIREBTksx1kQHBn2t8LNbJBR5eTjDXMiXFcI+BmKQ1WZcCEt5+QePECyGuGzEjP7GUt9MMyx2CRWKdXH/oS/Or3AOzOxcX3mvr+SvTiN0tzqEEOU9QYvL+xIe339d2iPcFc63pokB6uTFX6+g6Pu4mVgZRs31UFFKQ3Y4blwOA+q1g7E+1359NMQmSMbeLzkle6ygNq3/R64JOVIa+zjkUIr/FhqmrU0m5vZ00iecEuLu0PlNU8lEW5+6rblKKZRB8cGutHVKO9Ix7EEjZ9nRHzsW0sivtpJ/mpyyQg+RRU8bOh+Xrdxekscq6qBnRpv8koTn2RTnYUtmFrvpTop4bWRQ3I09tGjJKYrIiKdg9600tXEdMlp/Q1hTlEi+6wdTs6UeJBOfpgfQ1q+Xk2tSJiV4raN+jaeT08N0YbPh5GzZgXQ62pNvhkL5SkoPpL1TulIP26uUrEzKoQThWLppdyILpxDKUq5UOEVKADlO6UH9ll2g6GxxAxkUfXkV9Wv9LTneSSRpL4VQUHZ8MLlvtaAm2s2o94iZZPvHb7RwxBTa6i/kQ1YIOVkMp7nno5TbUST9RcvbN6OBm25SmuIxudr0EPLWmk4r81AgD6JdX35Du4JTxbUpPXgfTTUeTLbeT3OPQxFHHsv6ko6xFTmFpokpQloseSyfSBaOAZQirpQdSzccl9OS0+GUk+BJtv0601SnB0I+Z1CU8w/CcQ6g9b7Jua8V80rI38Hjt9D1uAzhuXCe/I6Q3fIjFJyeXUzel/D4PgHykJ00WLshDd4VJHwrFkROSa6LhLzvSWu8E3OTxPO0bRqZ6H1JKzxic/OPfRQ4AGPvX1Yg7TL7gqycQ6VClH1UYo6SuXYLMneOkBIEQmF+fk4n0mm8SAh+xKIkRQiMegtBghU5R+UPZZ6Qx9KeLwImgSLiEI0TAroum/woJ/kvWtZ6YL6C/hXZN2h9q/wBWBSd/t6E9IeuI48YMRDIpif37lNctlwo5I/Qis1elKAsobIpxnk66WhPJ+cY8ZVZQlBhRfW1R9LWwHwFvhjIDGpIOq1XkEdywUVifi+CsBN0/WxJg68Xsn3Xk5G2CVk4P8z3GukHSrPl5CGTUhVh5DSuGel03kT+OQpK87WnHsI5mOAUqnydWJAPsThKUeITxUNytjAhnV5bKTDf75vcwl6b2iz9i5Lz9pE/IM0v/S45Lf+dvPN+IL16zlOu0ppuA4Sg4Fnu85eIAVYReV+i4/sU5AVXnWmha7yU9qp0Ctk1mnT0OlDfUePI3Pxr6mv8GY1Z+CudDi75dcY+DNwEyd4zGUL2bcTRVouweIghNz/+V6hVQ9MOrYDUBCSmic2MEi0D6NWS+ruIUu/i8qFgaFx1wIzJVrCxXY8Nhx+h9fw1WNpXHxn+bjgYp4/69cpJLyhObXQeNw7Nbq7D6I69MHbZAdzX0kHN0qVQtvEILJreERWfBMDF8SfY2J+XXiNKwB1PH2ShFmpVzXd8peqgWVc9IO4a/MLSpcTCqWm1woQN6zEo4EcMs7iNQbvWYELzyni9wX410USvWr7XJMH/0kXElfbAlhkWsLRZDfsNRxHZ+nusXNYH9UupoVyr3hhtkgn3I1cRrkhFsOvfaDO+O+qJG0kMgueFWEC/JpR9uiWl9JqjSxU54s75I0wu7aOFAeqVKeBoyzaF2eLJ6FjxKQJcdmGNzS+4JC0CCKl+F7En1ABN9bWktPzUis77Eh2flPiflomokCCkojGa6z9vXHxFEsJvPwC0x+OnvX9gx46DOOvnhn2rvsOAxq97nbH3jQMw9h7JkeK7C4u9usB2lilq8rfHf09TYzSpWURYnRKPh8nloD96Gbbv2IRV82fD2toa1pbj0buRFlKexCIFz5CYUuwkExJ1VO30Aw5f2IFZfTRwZfs8jBywHBfic0CyW9hnNQiD7byANpOw1LqP9BqRHNkZ4iCCVKSm5y/t8zo3l4GmRkm+LjMRe/0sToW2QJ8u0Th1/AZi37pTtAxPIp4IAcpoLN2+HQ6rFubmkfX3mNi7MbTEz41GY/Sf2BO4cgIXAv7GJdeGGNS2Wu7Lc7KRIb6llDSk5z8U9dLQFN9SeU1o5O0jLhEp+eLl5ygJgftm4fPBP8EbbTFl6Qz0khYpP8fFnKci875Ex/cpSMajkAigUgPo19KU0l4hj0Xw1ShodmkM3UL6iLGPBwdg7D0hZIf9ibk/AfPWjUVzLfHbJBsxbkfhFit2+WUfNUpA0LUH6DyuGxoWVVBU1UMLnXQEnHLFLWWH/fyEYEqvIXRwFbuP/o2UfIUzpSYhqaDA5tkVbN7uBzQeAOvtZ3F12yTUinPB8evhCNq/HPNdu2HpKgsMMKr1SqFeHc06mwh7vAOfu0/zdfxOxdPopBJ2bs5EjOt6mM+OxKi9v+P37ZswKnJVAR3zX1cV6LXQBwIu4PytxEI6pWtCp8eX+FLTB7t/XAmPz3uiVTnpF031xujcqSpw4ybuPskXIKU8RbRMHfW+MIK+urSPv//E0esJ+fYhTh+RgsygQ5j5YwD6Ll0MiwFGqPlS5hV3ntKKzvsSHZ+U9l8mBVdo2wT65Qv+NUrRwfCJKI36jbVRSUpjHy8OwKCALMAJyyd/DgPl6Jw+GCvOPqycgbgPjHUa4UvHYGEt9u6It9a4BNvpW5DdsToiL53AsWPOOHZ4C1atCBB+8fJPu5L7UO4okIno4DDEi4EGpSDszE4cqbQAG8c1Lbr2okxzDLUaAHXvlZj03U9wcvWGr+dJbF+0ANv8U1Cm1SBYD6yL+5t+wHS7g3D1uQZPl62Y94Mj7hZUVVOxLDK3bMXxULG5sAzqNmuJBupNYGRQFWUraEE9xQvnLoUgNuIGLl0JEdYJR4C3DwIic2AwYAq+a5WCEztPIEAKBinBH+dPlsPoVePRoZBCMZccz7wdpODLNrfZUdkc+YsyCJu66fpLgcnr0UKroWPRU90VthNnws7pInx8PeCyfQlmbvNDXsOoWs1O+GpiA0QE6WNk/8Yv8r1UfQyYNRkt5WewyylAGtEpR8INV5yqMhErJ7dDeXEfwyZiQA0/OEyb9WIf2xZh1jbhNWUqoJp6FNzPeiI0NhQ+l7xwDzKE+l+Dd0A06Pl5mo6Ji7bBxfMafFwPws7aDucjM4vO+6jaJTi+/z6KuI2/IuSoIgTCtQq81AhpD4PhK5wrvVqVhLCXffSkvmBM2ak0f2deUTL5rh/5cudi9vZSfGh9vyakI+T3q3/6U45SNPckLSEFZT3YRxMHzqGd56/SDY8jZDuuA+noTZBGv6mI9NnJPYfaZNTPiuxPB+WOpFN6Rv6H/kdjjLWF5R1ozEJ7cvLP11lbkUiBhxfTsFbicuH1QxeSo3fU88+hIuU2HbYZSUbK7ZvQMJv95CuOtEvxp0M2o8lETDceTQs3X6aInHjy3vQNdTUeTrNX29BUM0vadP6+8ljEDvJ7LXuSvriNhbvJ68afNLdbC+r2/W/kGpos5KaCsmO8yHHpOOrW4xtaunYxfT9lAW3zeJTvO6EQWcG0d5p1gR3uFeIIQjPrYkbzyYW3c5BsxgjnT8gDkzHzab2TP6VIS5WjTQOPkM1QE2G58H5bjaSFjl4UoxxtmUdBqd621MXyFMX94zOUQTHee2jpmJ7Uw3wRrVtqRVPn/k4e0eJAhTz/3IfN/hsUJ+5DOEd39v5A3fSk8+PlRSfnfkH1u1nRb64PpPy9S8fWTKSueuJ5akjdpvxC55X5WpK8L8nx/UfJI8h1yyqa/TzfhWt3zR/kHZ/vqst6QOc3zKMxXRsq19HvOpYWbBSu9+LHhbAPGM+EL8m5aY+2X/6BbttOw2FAvbxUxB5bDse6szG/Y2UpjbEPxIdyR4FYZ0xutxhwOIMdQ3WlRPZpEmsCf8bE/U2xY+NA7tfJWBG4CVIpGzEPgpAAXTTVyR9olUadocs5+GIfpje6owDP2M7+TYScnGxkH1+Hje5xhVyDjDERB2BKaYh+8ABQb4D6dfM62gq/5G6ehVsk312efUSKu6PAW8/YzlhRSqNml2H42igR96KSOABjrAgcgInoCe7fjAK0G0CnWm6jDcn8sX/1acQXm0XijVGlDtCF/XVxQMCrA7wYE8WfhqV4G5mCrhvlnw66OvgLPwdKQoGUgCs4W6E/BrWrIaW9QqMRRq7P7Rj+Igh7MXrP7KeZ6KP7OrcyyUT8/QfCp0DskH0bEf8Yycg+KRQL1/+thlffjfj564b/YgHD37vs48d9wETJrrBpPwb7anZEzya5EyBSQhAuPx6DEx6WMOLhJuxjkH0XjmNn4OaYbbAfWvSktuK8THtmzcBBXWus6HgLixfkG70nrVM8cQSxM7ZffPiipqN8a5hZfA5d/mnHGGNF4gBMoLi3C0M/Xw2sPIVjk5rk/mqLdca0dRVgu64PqirXYuxDJkOI4xzMiRyNHYs+K1HnZ5LdxK+TxsH2ugnmn/gV042r8EzajDGmIhyAiX29LixEu298MPGgM5aYqi7cEqvJ2acn8lGM9OhdEe8o8CumbKuM/63Pm9S2OHnNjn+jXpN4RDdbhJ0Le6Fu6dcLwfgaZqryLj83fN2+f+/+e/DjwwEYUhHgMBoDbevA3mszzHSLnDayAGJfhIGYdixWel4APRuc5qZMVhCxD1i7KTheaF8VdejNP42/LI0LmVJCvKPAYVjNf4ypv09H24riWuIdBU4iuOlg9KhT0PWcf8Z2W0zQi5CaI23eKAhjTPX4e5d9/DgAozAcnjgY1n7mOH7TGm3+0XGGkBF2CX84nYfbyUC0/eUgrNsUdMNZxlQt944Ca8xXIbz3VAyuL92wOjsSF39LwEjnJehR6dXOWLnzNI2Zfv+lPl95fcION7fDgR86oCLHYIx9AORIDDyF39asxua/qmLIt71Rv4zwEyr0AramT4P376Z4fHQPNm/YjnvD98LFuh1yvwUyEOl9FLvWrcbOlH5YuGA6JvSoj9cZXvMcPUPg8a1Ys9QBHrWHYFrfBiiDVISeO4X0745gx5AyuLn/F6xcvAP+xmMw3bQ8Ak9dR7nRS7DIvDPq8A+6wokB2Kcqxf8I2c4e/mKG7dlryNH78T9mshYpIg7ROO3etN73xdzUHz4FpYdeoG22c2lM14Ef2bG/Lx9Rnr3JHQXeesb2D4sizo1W9OtBU/cGUrqUVrhsivNYQ/30OpH5pssUGn2dtq04QREF5RN7xzjv31w6hewaTTq9tlJgjpSUdJkWL75MSconKeS7vncBd8BIo8Ct39Ds87HS87cgD6Jdg5rRF1tvU+4hyCnJ1Y4Wu8Yrn1GGN61p0UHal4KyQ/fROL2etMzjSe5yVqBPeqySltEI/LjuT/g/ikHko79xdN18TOxYq8COyGoaGijk/vQfMDWUNfwCU8a0Q6nwLCmNFe0jyjOtDrA+E6TsS/HqX/j2Yahb0IWs0Rhjf1uPiQWMdlSr2hU/Oq2HmaFUk/YRoIwEPIp5jMjHKcXf/5Ie4vy+MrC5/DN6PlyHzzstwL32baDDP9D/fR9s3otN+J44e7eoOcsyEXPFHbdk7+uOwOl4/DAamiYGqJPXnKrVEP36NURuW0wyYiN10OezQGza44Nnz99IBp7GVEXrhlWk528hPR4RDyrC2LCG1BWiFLQa9ES/BhWVzyjuIe4k6qGxjniLcDWU1m2C1pUD8ee18PdwX9qPBw8W/wR8nMHj+8V59nEopTsMv/kF4ox1B6kwKoKaAYaumYJODTpi7NrTCH94AT/11S7wBxd7xz7YvM9EuPuvmNqvP0aYm2Py5IkYbtoIuvpdMFz5/BuM7dsBHcwv4qkYf1E0PH9dgLHiOjqNYDpsIiabD4WpfmsMt9kDn9h/YRJjRRzu34hD/cbaEMMb8ZjjQwktOuvmFuDyeITKesJ6xhhU+mML9gUkK9cCJeDh/XpoWK+wbzIZbtoPxeRjkdLzwimi7+FGcl6AJcgR9ilvhM664l04pJuEa9aHYR1pX8oJoWuhY/1afNPwInAAxhh7e5SGxKQPvZZVHRWqVCxyfrR3Q45nnr9gmr0nnkkpTFV5/5ooHneuyGHpdAp/7tyJHTtWYkITIajQHoOl28Xnu7B372oMq1AVlcoLxaVaPZhOt8Hs4YaA5nD8T3zNTme4ea1EgzML8fWMAwjJLqgu7S2uCVk07oXk1T4RcqLPYtX2ICik6JWig/F3g0Zo2HYs/jc+Hht+vYRo8RDSYvBAQxf1NN82zFVAFhWKkOcBViaiT/2C7fcypAA6C3EPHyClfgPoVBLDrXSEnjyAP+tPgPln9fgHThE4AGOMvTFFpCt+XfYd+ht3hrWzB9wcbTDcSAe6+qYYb3sCIcqZ8VMR5nkI2+zmYWzf9XD1348Z3RvBoP9G+CqbdeSQhZyA3Yw5WL5mFoabjsKK40GQPS/HxOUu2GA1CMbKWc5bY/jiUwhLCYXngS1YYTkIpva+z5s6SHYHRxZ/B8tlyzFnWHu0nnEKMcptCdsJc4ejjVnudoxGwc4t6qUmEpIFw2XDLEy0XIw1C8ej36CZcLjwIN+xlAQh84mwnTvxQlFVUuJgHw8c2GaHhWPHwd71CvZZ9YKB/gjY++YW2SQLwnG7OZijfF+9YLZczN+nCHBaiclCfurqtMTwuQcRIMuBLOAQFo3tKJyHfrD82RWRCikPZ5gL+bJC2MdADLLajAthKS83vVESQlw2YkZ/Y+VUDbpGZljsEops5bIUhLntgs0wcQZ6HRiPXAe3l25b9Ur+6jRCd6tDCMkQ91Bc3pfw+N61tAgEVx6PCR1yJ+BGZjSCfJ5Cs0tj6EpVN2rVdNCkX1PoPo8ekxEbGg+0aAqDyuJKaihdzxQjv2oC+dXzuBpe0Fl/k2silzzqHq6llsOzq3/A3t4ea1fvQFgzfeTeoVisfQoFNagNTbWa6DphItqe3YE/riVAEfcQD1o2KLgrwmvJRFRIEFLrxcNr10bhGH7C6i2RaGaQd4/kFDwMDAGeuGHvzz9h2eSvMcO7DX7faYlOVbn+q0hSXzBWnJijZP7RdcKXfMzH/r5wnpVQDqX4b6Fh2tpkYm5PJ33CKSHuDp3fNJVMtPWp25qrlEIZFB/sSluntCMdwx40cpYd/bFjIY38aiv5p8kpK/QQWfS0ofNx2crtJXmsog56ZrTJT+xiLHbetiUzi910J0Xs/ptBcTf20KIlpygiI56C3bfS1MZ1yGj9DWFNUSL5rh9MzZZ6kEx8mh5AW79eTq5JmZTgtY76NZ5OTg/Thc2Gk7NlB9LpaE++GVJP8PRA2julK/WwvUrJyqQcShCOpZt2J7JwCqEs5UolkU0xztNJx/woxUgpxVNQdnwwuW+1oCbazaj3iJlk+8dvtHDEFNrqL+RDVgg5WQynueejlIMnFEl/0fL2zWjgppuUJh6n6/+ojXY7sjqduzy34/YkMtsVKBy3gtKD99FU48Fk6/00d7kijjyW9SUdY6sXgy4UseSxfCJZOAZQirhSdizdcFxOS06Hk1wRT162Q6jJlMP0MFs41qhjZNVYmzoJ+Z6hfLFwDEL+Dh6/ha7HiSnCefI7QnbLj1BwenYxeV/C41OB3MFW+vk6mxdA2eG8DjVZmNcJXiR1hNceSVsDCzreN7kmREK+np9H9RsvEq5heW5KyFn6M1B5dQvE8zyT1ngn5j5VPCZXmx6kb7aTfC+uoW+dI3LTnxPWd1pI5ubfCH8TaFjXJmTU52vpuSWt94iT1ssvls7P7pDv/QrbOOFCgZm5V1puB/0WNHhXEOUeISspDsBKigOwTwvnWckp86oFmef/shcK8/NzOpHO84JDKqAMrcg5Kn8o84Q8lvZ8ETAJcgtBbeqyyY9ykv+iZa3F0ajJ0tJXZN+g9a3yB2BRdPp7E9Ifuo48YsRAIJue3LtPcdlyoZA/Qis2e1GCstyQCkTt6eQcI74yi6Kcraj+qwWosnBpSDqtV5BHckmLlzctbIVX+q4nI20TsnB+KAVSIjkle6ygNs2Wk4dMSlWEkdO4ZqTTeRP5i5FC2nVa30Of9Mcfyh1ZKB73kB9y81rxkJwtTF4eRSeQh+ykwUI+t1n6FyXn7SN/QPqSFAp2Wk+bveOl44ogZ/MWL95jylVa022AEAg8Uy59mRhgFZH3JTo+VVCQzGM5NdPOG81XMEXoXjLTbkJme++/OEdZt2jrQOE6aW9L3qkF5d+bXhPiSMaRpGO2l0IL2qwyOJonXcMiITh+eJimGnagYUO/oU3+eZ+qgoifySEvf24LknObtvZq8fL7zS/hHM02/IyWeSRICaykuAmyWLlNA/scj+EmInB+1w786R//71aLM/axU6uGph1aAakJSEzLN3pMywB6tfJNDpt6F5cPBUPjqgNmTLaCje16bDj8CK3nr8HSvvrI8HfDwTh91K9X0pGZtdF53Dg0u7kOozv2wthlB3BfSwc1S5dC2cYjsGh6R1R8EgAXx59gY39eeo0oAXc8fZCFWqhVNd/xlaqDZl31gLhr8AtLlxL/SR7ggK7KZjfxTxftLY8C56aj/fO01rB0iZbWLk5NNNGTmsSUkuB/6SLiSntgywwLWNqshv2Go4hs/T1WLuuD+uK3eLlm6D+6I+TuZ/BXeAaygz1wtvVw9KonvJfEIHheiAX0ayJ/i1ApveboUkWOuHP+CJNL+2hhgHplCmqz0kJjM2tM71gRTwLOwnHNcthffCotI6T6XcSeUAM01S9oKIRa0XlfouOTEv9VmYi+fxcpaICWz5vXXqVAysMgBEAbbRrWyD1HOY/h6+iALbeaY5r9JHQon5t/7+aaeIawgPuo2EIftQo6LWlh8PWthrrPM04NpfV641vL2rh+szLq132jmb9elhCOgHs10FI//zX5gjw2HP5ZBmigXV5KYSXFAVixxGkJumHs/N34+1EQzm6aiRHGNQu8ED88HDy+Ps6zd6qpMZrULKLrdUo8HiaXg/7oZdi+YxNWzZ8Na2trWFuOR+9GWkh5EisUiM+QmFLSwezqqNrpBxy+sAOz+mjgyvZ5GDlgOS7E5ygnm91nNQiD7byANpOw1LqP9BqRHNkZ4iCCVKSm5y/t1aGhKRZuZaCpUfjXpbqRJa48nwYkEtcdhgN9f8X152l/w2FAPWnt1yXDk4gnQoAyGku3b4fDqoW5eWT9PSb2bgwt5ZdRBTTtPwI94YkDF24KwdRtdBhsBOUkATnZyBDfUkoa0vNfyOqloSm+pfKa0MjbR1wiUgqcbUEOWeB+zPj8K9h5E9pMmQ/rL6o/X1bceSoy70t0fKogQ9S9cCErG8CgdmEjB7PwOPwBUtVlcPvZEpMnj0K/dl/DPtwYqy7sgY1p7edlw9teEyQLwYVdm/G7Sywy/c7gkEsgEp/nDyEn9gYO/7IFh0L/wuFdpxDwNC/vK6P1qG8woGkzGFZ7mz5Ywjm/dxG7ft6JM/In8DvzJ1zuPsv3XZiJWN8/sdF+P4IQDnfnY/COzJCWsRKRasIYY+zNFNoE2VPqgySSmiBbrSffvNYSUcYNWt9Rm/RHbCE/ZR+v/BSU4WtPnbT18/XLyqWQJVJitpDwahNkgic5bLsh7E2UQVGn51MbbRP6/vS93KacFmvIW9nE9moTZAaF7p1E+i/1oxLl9n8pvGmpIG/bBPlq03eykHcDSEdvNDn4PSu4GUikiKLTlu1Ip/MX1Per7RSYJa0pD6G9XzUjHUNrOq3sZydRNh1pU4c1XpSatw/tgS/6YSnlkOxZMmUrm6H0qeUab6nPV/4myOLOU2rReV+i41MB6T0W3twnkq6HvKbfEnvza4L9d3ENGFOxeHjaz4W9Z7z0nP03ZCI6OAzxOcLvY3G03JmdOFJpATaOa1p07UWZ5hhqNQDq3isx6buf4OTqDV/Pk9i+aAG2+aegTKtBsB5YF/c3/YDpdgfh6nMNni5bMe8HR9wtqKqmYllkbtmK46Fic2EZ1G3WEg3Um8DIoCrKVtCCeooXzl0KQWzEDVy6EiKsE44Abx8ERObAYMAUfNcqBSd2nkCAcvSm8FYS/HH+ZDmMXjX+edOS6mmh1dCx6KnuCtuJM2HndBE+vh5w2b4EM7f54XnDqFoddPt6CGpFxKD2yF5oqiEdb6n6GDBrMlrKz2CXU4A0olOOhBuuOFVlIlZObofy4j6GTcSAGn5wmDbrxT62LcKsbQFIgSYqVC+PFPfzuBQajQgfd1y5JwNCA+DtfRtxjQZK52k6Ji7aBhfPa/BxPQg7azucj8wsOu+japfg+FQgOQohoZmFN/eJ5LEIvhr10ihJxt6YFIgxpiLiL+fOxXf8ZB8PZQ1Y3m2QtMmonxXZnw7KHUmn9Iz8D/2PxhhrC8s70JiF9uTkn6+ztiKRAg8vpmGtxOXC64cuJEfvqNwaLXFxym06bDPyxS3DbPaTrzjSLsWfDtmMJhMx3Xg0Ldx8mSJy4sl70zfU1Xg4zV5tQ1PNLGnT+fvKY1GkBNBey56kL25j4W7yuvEnze3Wgrp9/xu5hiaTQviXHeNFjkvHUbce39DStYvp+ykLaJvHo+fHUjJvUtshF97OQbIZ00GZByZj5tN6J3+pJk+UQymBR8hmqImwXHi/rUbSQkcvihFrAfNL9aI1nWe/XJOklEEx3nto6Zie1MN8Ea1bakVT5/5OHtG59Vm5/rkPm/03KE65D2HZnX1k1a2htG83unFiIXUz7Enf/3aZQlNyhPy9S8fWTKSueuJ5akjdpvxC55X5WpK8L8nx/bty/DdRF+1mNM4pTHnMBSnRKMkCcQ0Y+ye+GTdTsUgcm/w1Tg4+hB1DdaU09lGLdcbkdosBhzN8Tj95uTd7n7i/KXZsHIia76vS8LVlImzfNHT/MRLf/3kU8zsW1AmfkOq5Eu1HHUJnvtbZO8BNkIwxxt4RQk5ONrKPr8NG97iPYvCKOJnwb7bzMdvuovAsGAdsl8J2tw+e5D/47FBc+Hk+LObvQQqe4tK6BVj4izjBrbScsTfANWDvmTgc+b9EHN3zslQEOIzGQNvr0vMCqI/C1hvrMKBmbqeK/1qeFOSf+fQR4xowlp8iGI5DRuHMKCccGNuIf+W/pv/i999/6vvuHeIAjKkYN0H+t2Qi3nMTJoxyQMbULdg9uw/0tLh38ieLYuG65EccrD0ZS7/thrqlP5o2SMZUjgMwVoQsJCVmoVTMbdyr0Q5tiprPqcT+wwFYTgoSM7IRczMSNboZf0T9X96UArIAZ2y/+PBFU1P51jCz+By6XO3BGGNF4q/JT47Y2fQbGLRZCc+CZ1wUELLDnDDNpD5atmyEVotvo2xFrtUoXDrCDs9Aa4PGaNXUFEuCSqHiJ/HDvxS0jEZglnJSUOnvWw6+GGOsJPir8oNDyElKQuq/Vi+pibpdxmLZvP5oqlX46Vcr3wlLvCOVbffhR6ageVluSihcKZRvtwBeytmtA3HYohXewQ1AGGPs3cuJgpvdKBiLt0PS74UZ+25Jc68xVeMA7INBSA88gLkju6Jh5x+xdacNhhvpQNdoFOzcopADGe65bMGyyYNgvmknfhrZGgZDdiFELgRsMe74ee6PWG0zDp9P3YPAvEkkZUE4bvcDJpsPhal+Z0w7fA/ZGfdw+dgFnHfYA8/HOcJKSQjcPQ8WNsswZ9iXsHGLU74WFI1LP8+Fed+O6G51CCEZ0idUWD/k+BpMs1yC9Wu+R//+C3D4btJrjHbSxdAdV4tufswIgYvDEkzubgGHfWtgZtQcQxyDIEcmYjw3Y+7cpbAZOwgWu/0RH3oWduM7Qrf+ePx8Iw7yJzexZ05vGPSdi90346AQ82CFFSyX2WGN5RD0n+uEu1L+KG+1EXICdlZTYT6sCwxMZuCweL+/nGj47LHFHPN+aN19NpxCZNL6Yp4Gw2WDkF/KPG2K/vbXhDMjpMddxs9zJqGfSW/McApC3g05lOeg0P0zxpgKCd/fd3ZvhWerFbgSGYK/fukMvx8Xw/HWi+84pkJiHzD2ociiCKeppNPYivbfTyaFIpFub5tE9fUsyCkig7JjT9OcZnVIv98yOup+ivYfv0Mp8ofkbPENbQ2UESnEx13pq70hJM8KIadpVrQrWLyJh4Kyo73ohE+scsLD2NPzqJl0GxB5yE4arLw9jHgX/SM0e7Mf5WQG0NZBg2mN9zNSxJ0iK8POtNA1XthODiV4rKJuPezJN02cqjCLopytqL7xHDodnXvDmXcj7xibUL+lh8n99CE6HphI8qijZPHlVuUtVhTi48aTaG9oOmX6O1BPZR5lCq9No8CtVspjFw6ePJYNpB7rrwupAmX+tCMTq5MUrVBQVughmjZxNwUrb9mSQdGe58gn7hnd2TqaOom3P5Fu7dJk4WVKEl+vzNNvpdvB5Obpcc9HJLuzlQZ3FG9Vk0Vxp62pfuNF5JokL2b/YgJjjKmS8N0aGk3p0jPK8KY1LV65jRhTGa4B+6CoQUNDAyhjgCb6FaGmVhktvp6AUWWvwf3WU5SuXht1S1dFN/MJGNp9IEZ/2Qyat09i06026NS4gvDyyqhrWAY+XncR5nMItgkd8Vkj8SYeaihdtxMGdxBvFFsG1evUfnF7mNKaKJd0GJt/c0NktaFYN90Y6hoG6L14NSa1rQxolkelssmITUwXovVouO8+hGd9u6BFObFJUgP1PhuEYckn4Xg54jVqwYqTd4zdYW4+BN0HfIUvm6nj9tG9uN27IxprqEGtej0YavjB624CNJuaYljDazjlHQVSRMDHpzkGtK4MivXEnh3p6Nu1EcqJm1XTxmcjeyL56BFcDo+Bz57dSOjdFY2Ut2wpg7pd+6BDzYrQ6z0PWye1RnnhCMpXLoPU2ESkQYEUZZ6aYoBRFSEfc/P0y67aKK/XG4u2TUTb8qWE7KqAMqkJSExTFLP/TDGFMcZUqAxqG9Z90UUiMw0p2c3QsUkNKYGpEgdgH7rylVC9jCbKauR1ghcKeeFxbo+sTDy8eQUhshOwm7kQtvY7cEVzONaMb4ZEv2uIq1geyjipCKUMBmHpuh6IWjsG3U0tsTswCaSmBV1DObw3zcfM9ScQ9rzFLg6hPnEopVkaz7vkV6yOelpJCH6ciHffsKYhBKTSG1BE4ea5O5CdtMNMm9Ww33wFmt/Ox/g21YUgsSF6fd0Yl/e4IfDuFfh0NEUzTTXIY8LgI1dX5lcudeFwa0ML0Xgc/wB+5x6hYgVNKS/zqENLtx7I+zfMnbEOp8JSpfR0hBWSp2paQjBIPtg0dw7WnwoWQrVcRe7/WbaUxhhj70M2oi8fw+UhUzCsqfInIlMxDsA+dClPEZ3TEaYtqkkJ+cmRLpMBNYfgR/tVmK8cifY9RnfURSUtLcDrNu4X2ZufkPEwChr9V+KUz2FYt7iKRT8exX2ZH377ZiYuG06H/ZJxaFtGWl29Cmo3rYykuxGIz9usPAdZilroWL/Wi6Ds30AZkD2Vo8bgH2G/amHuiDvLr9GxjnhwFdDk835o/fderLa9h579Gytr+NSr1kYTPEZQxDOpdo4gz86CQr0J6mtXhVb1NHj5P0ReiJUrGf6/WWL0JQPM2rAYY9rWlNLVUU6Zp38jKCl/qElI9/8d34x2g+EsWywZ01H4jZmryP3X5W76jLH3hZATfR4/H2wIh8VffAJT5nyYOAD7ECmykC0Xi+wMRFx0hczmO/Sr97zRMJ/yaNStL4zv74WDoyciZdmQhbnj4IVH0O7SB51T92HVOheEKdNd8etm1xeBk5IciX678NOZh0CdThhtZgr18poonRGP8MBMlKlQFuqpyUjIyUGKLAHPkuug56TBqHrpIjwjxW7mhOxQf3hqDsOYz+q9UpP0jqkbotuY1njw+xY4ej6EjFIQ5uaMC/fTlItLNeiC4a0jcEWtNTrpaCrT1Ay6Y9LwCrh02geROeIbT0Oovx80xw/HZ/Xqo8uILkjbuRbrXe5J29uJzRfu4XH4QyjKlkNZ9XQkJwjbT0lB/LMs6Cjz1Al2a/+Ef3w6ZJEe2CE8vhX5EHflZVGhrBpSkxOF35WpSI1PQLJ2Efuv8y7mVGOMsddHsgDs/jkY/TdYoC1PMfTeqC8VSI/Ze6eALOgsth91xJ8nPBHgdQvJbadi3pDGQqgVD/+j+7HfxQfh6tVQQ6c+GteuAI3aTdBa9zFOrV2EFWu3wSWxLSZPMkW9ui1g2joHl+yl9GfNMeHbQWiceRtH9x6Ay82HUK9eHyZta+DvZXY4E/MAnt5lMGXhJHTR04Fu1dtYN8MW59MM0cnoGQ4dCUPtLqYwNe2Bz3T84LDcCXcfB8DlvAyDbH9Af91y7ywAoyd+L46xWk3o1G+A2uXLoXbz5tCNO4N1i5Zg3S+XkNhhDCZ9pgNNccdqlVBdIxxhTUZgQouquceiVhkNu3WCtt9vWH4gAI8DL+L8076wnd8XumXKoHrLDjDJuQz7xUuV20to8RW+Hd4ODfTKImitNVadT0fTzoaIP3gKoXXa47OePfFFew3c3Lkay23tcSi0AcbPHoNOTXRQJWgTZq66iNSmrWH05AQOh9ZCl25dYdq7SyH7598+jDHVI9kt/GHnBoMZ3+HzuprIib+Kjcu9UOeLlqjKNWEqxTPhf1ByEHtsJtovaYDjN63RhitJPkgUfw4/znuK73aOgSF/YTHGPhYZd7HPyhzzz4RLCSJ16Fgfh5t12+fdJ5hq8M9wxl5X2UqoHu6IP648lRIYY+wjULYZxm73Uk6w/eLvEbw4+HovOAD7kFAq4qKEQj3nMWKf8jQFHyY5UmOikdK4P3o2qSylMcYYY6+HmyA/GISMsKs45x+XO2JOrRaM+3aBId8C6ANDyHkah6TKtVC9NJ8bxhhjb4YDMMYYY4wxFeMmSMYYY4wxFeMAjDHGGGNMxTgAY4wxxhhTMQ7AGGOMMcZUjAMwxhhjjDEV4wCMMcYYY0zFOABjjDHGGFMxDsAYY4wxxlSMAzDGGGOMMRXjAIwxxhhjTMU4AGOMMcYYUyng/6djP2dIlmZ6AAAAAElFTkSuQmCC)"
      ]
    },
    {
      "cell_type": "markdown",
      "metadata": {
        "id": "yMLNyQFppMJt"
      },
      "source": [
        "- **Precisão**: Utilizada quando falsos positivos são considerados mais prejudiciais que os falsos negativos\n",
        "\n",
        "- **Revocação**: Falsos negativos são considerados mais prejudiciais que os falsos positivos (contrário da precisão).\n",
        "\n",
        "- A **pontuação F1** favorece classificadores com precisão e revocação similares. A utilização da melhor métrica vai variar com o problema proposto."
      ]
    },
    {
      "cell_type": "code",
      "execution_count": null,
      "metadata": {
        "colab": {
          "base_uri": "https://localhost:8080/"
        },
        "id": "zDaD6xK3t8Xb",
        "outputId": "94e8bdd9-fc6c-4e86-8d09-fcf4c97c59a7"
      },
      "outputs": [
        {
          "name": "stdout",
          "output_type": "stream",
          "text": [
            "              precision    recall  f1-score   support\n",
            "\n",
            "     Não é 3       0.98      0.97      0.98     53869\n",
            "         É 3       0.78      0.84      0.81      6131\n",
            "\n",
            "    accuracy                           0.96     60000\n",
            "   macro avg       0.88      0.90      0.89     60000\n",
            "weighted avg       0.96      0.96      0.96     60000\n",
            "\n"
          ]
        }
      ],
      "source": [
        "# Relatório com as métricas\n",
        "print(classification_report(y_train_3, y_train_pred, target_names= ['Não é 3', 'É 3']))"
      ]
    },
    {
      "cell_type": "code",
      "execution_count": null,
      "metadata": {
        "id": "7pJqWG7RyFR2"
      },
      "outputs": [],
      "source": [
        "# Pontuação de todas as instâncias\n",
        "y_scores = cross_val_predict(sgd_claf, X_train, y_train_3, cv=3, method='decision_function')"
      ]
    },
    {
      "cell_type": "code",
      "execution_count": null,
      "metadata": {
        "id": "-tvbf7sM8XBq"
      },
      "outputs": [],
      "source": [
        "# Métricas\n",
        "precision, recall, thresholds = precision_recall_curve(y_train_3, y_scores)"
      ]
    },
    {
      "cell_type": "code",
      "execution_count": null,
      "metadata": {
        "colab": {
          "base_uri": "https://localhost:8080/",
          "height": 449
        },
        "id": "Da49Ftko9b7E",
        "outputId": "1b2dfcd9-8765-47cb-8529-b4e8acaa5eea"
      },
      "outputs": [
        {
          "data": {
            "image/png": "[encoded data removed]",
            "text/plain": [
              "<Figure size 640x480 with 1 Axes>"
            ]
          },
          "metadata": {},
          "output_type": "display_data"
        }
      ],
      "source": [
        "# Gráfico\n",
        "plt.plot(thresholds, precision[:-1], 'b--', label='Precision')\n",
        "plt.plot(thresholds, recall[:-1], 'g-', label='Recall')\n",
        "plt.plot([0,1.1], color='r', linestyle=':')\n",
        "plt.xlabel('Thresholds')\n",
        "plt.legend(loc='center left')\n",
        "plt.ylim([0,1.1]);"
      ]
    },
    {
      "cell_type": "code",
      "execution_count": null,
      "metadata": {
        "colab": {
          "base_uri": "https://localhost:8080/",
          "height": 472
        },
        "id": "BxfJc_3eAMzA",
        "outputId": "e6b6ba98-b6c0-4726-8150-4fcd6e5a99c2"
      },
      "outputs": [
        {
          "data": {
            "image/png": "[encoded data removed]",
            "text/plain": [
              "<Figure size 640x480 with 1 Axes>"
            ]
          },
          "metadata": {},
          "output_type": "display_data"
        }
      ],
      "source": [
        "# Curva ROC\n",
        "fpr, tpr, _ = roc_curve(y_train_3, y_scores)\n",
        "plt.plot(fpr,tpr)\n",
        "plt.plot([0,1], 'g--')\n",
        "plt.axis([0, 1, 0, 1]) # [xmin, xmax, ymin, ymax]\n",
        "plt.xlabel('False Positive Rate (FPR)')\n",
        "plt.ylabel('True Positive Rate (TPR)')\n",
        "plt.title('Curva ROC SGD')\n",
        "plt.show()"
      ]
    },
    {
      "cell_type": "code",
      "execution_count": null,
      "metadata": {
        "colab": {
          "base_uri": "https://localhost:8080/"
        },
        "id": "HokYYAQe2qTV",
        "outputId": "145a6c04-6c00-4e38-db80-818df0b04303"
      },
      "outputs": [
        {
          "data": {
            "text/plain": [
              "0.9615833779378871"
            ]
          },
          "execution_count": 16,
          "metadata": {},
          "output_type": "execute_result"
        }
      ],
      "source": [
        "# Área debaixo da Curva ROC\n",
        "# Classificador perfeito area = 1 , classificador aleatório area = 0.5\n",
        "roc_auc_score(y_train_3, y_scores) # 0.96"
      ]
    },
    {
      "cell_type": "markdown",
      "metadata": {
        "id": "hXW-uEBB8GtS"
      },
      "source": [
        "### Random Forest"
      ]
    },
    {
      "cell_type": "code",
      "execution_count": null,
      "metadata": {
        "id": "yFD4-y7b68eO"
      },
      "outputs": [],
      "source": [
        "# Random Forest e sua probabilidade de positivo ou não positivo\n",
        "rf_claf = RandomForestClassifier(n_estimators=100, random_state=14)\n",
        "y_prob_rf = cross_val_predict(rf_claf, X_train, y_train_3, cv=3, method='predict_proba')"
      ]
    },
    {
      "cell_type": "code",
      "execution_count": null,
      "metadata": {
        "id": "_iHfS0Yy8zGc"
      },
      "outputs": [],
      "source": [
        "# Probabilidade da classe ser negativa e seus valores de FPR e TPR\n",
        "y_scores_rf = y_prob_rf[:, 1]\n",
        "fpr_forest, tpr_forest, _ = roc_curve(y_train_3, y_scores_rf)"
      ]
    },
    {
      "cell_type": "code",
      "execution_count": null,
      "metadata": {
        "colab": {
          "base_uri": "https://localhost:8080/",
          "height": 452
        },
        "id": "TaWhHrtoCRdO",
        "outputId": "1266523b-2899-4242-fb07-7010515fc07a"
      },
      "outputs": [
        {
          "data": {
            "image/png": "[encoded data removed]",
            "text/plain": [
              "<Figure size 640x480 with 1 Axes>"
            ]
          },
          "metadata": {},
          "output_type": "display_data"
        }
      ],
      "source": [
        "# Gráfico de comparação entre curva ROC com SGD E Random Forest\n",
        "plt.title('SGD x Random Forest')\n",
        "plt.plot(fpr, tpr, 'b:', label='SGD')\n",
        "plt.plot(fpr_forest, tpr_forest, label='Random Forest')\n",
        "plt.legend(loc='lower right')\n",
        "plt.axis([0,1,0,1])\n",
        "plt.plot([0,1], 'g--')\n",
        "plt.show()"
      ]
    },
    {
      "cell_type": "code",
      "execution_count": null,
      "metadata": {
        "colab": {
          "base_uri": "https://localhost:8080/"
        },
        "id": "0Q6dfLOdDAbw",
        "outputId": "f39297c3-b89b-4002-bb2f-69c1f082b6e8"
      },
      "outputs": [
        {
          "data": {
            "text/plain": [
              "0.9960111040866069"
            ]
          },
          "execution_count": 20,
          "metadata": {},
          "output_type": "execute_result"
        }
      ],
      "source": [
        "# Área de baixo da Curva ROC da Random Forest\n",
        "roc_auc_score(y_train_3, y_scores_rf) # 0.996"
      ]
    },
    {
      "cell_type": "markdown",
      "metadata": {
        "id": "MQsgFYwUJiBU"
      },
      "source": [
        " # Classificação Multiclasse\n",
        "\n",
        " Quando valor de saída pertence exclusivamente a uma classe e possui diversos valores possíveis."
      ]
    },
    {
      "cell_type": "markdown",
      "metadata": {
        "id": "l8WXGo33EXmt"
      },
      "source": [
        "Alguns algoritmos são capazes de lidar diretamente com multiclasses. Outros são estritamente binários, porém, existem estratégias para realizar classificação multiclasse para algoritmos binários."
      ]
    },
    {
      "cell_type": "code",
      "execution_count": null,
      "metadata": {
        "colab": {
          "base_uri": "https://localhost:8080/"
        },
        "id": "XFwMb56jCg8N",
        "outputId": "03dac0af-a0ee-4523-b313-79df1ccffc6d"
      },
      "outputs": [
        {
          "data": {
            "text/plain": [
              "10"
            ]
          },
          "execution_count": 21,
          "metadata": {},
          "output_type": "execute_result"
        }
      ],
      "source": [
        "# Modelo de One vs Rest utilizando o SGDClassifier\n",
        "ovr_claf = OneVsRestClassifier(SGDClassifier(random_state=14))\n",
        "\n",
        "# Treinamento\n",
        "ovr_claf.fit(X_train, y_train)\n",
        "\n",
        "# Quantidade de estimadores\n",
        "len(ovr_claf.estimators_)"
      ]
    },
    {
      "cell_type": "markdown",
      "metadata": {
        "id": "ml8mh7ANaRrz"
      },
      "source": [
        "OvA - one-versus-the-rest (um contra todos): Cria-se um algortimo binário para cada classe presente no problema."
      ]
    },
    {
      "cell_type": "code",
      "execution_count": null,
      "metadata": {
        "colab": {
          "base_uri": "https://localhost:8080/"
        },
        "id": "Z0Osn90cJm0W",
        "outputId": "80c83391-4cc4-42ea-f102-203b2cab4626"
      },
      "outputs": [
        {
          "data": {
            "text/plain": [
              "45"
            ]
          },
          "execution_count": 22,
          "metadata": {},
          "output_type": "execute_result"
        }
      ],
      "source": [
        "# Modelo de One vs One utilizando o SGDClassifier\n",
        "ovo_claf = OneVsOneClassifier(SGDClassifier(random_state=14))\n",
        "\n",
        "# Treinamento\n",
        "ovo_claf.fit(X_train, y_train)\n",
        "\n",
        "# Quantidade de estimadores\n",
        "len(ovo_claf.estimators_)"
      ]
    },
    {
      "cell_type": "markdown",
      "metadata": {
        "id": "2KO2j1Ghat7D"
      },
      "source": [
        "OvO - one-versus-one (um contra um): Cria-se um algoritmo binário comparando cada classe do problema com outra. Se tiver N classes, serão treinados N x (N-1)/ 2 classificadores."
      ]
    },
    {
      "cell_type": "code",
      "execution_count": null,
      "metadata": {
        "colab": {
          "base_uri": "https://localhost:8080/"
        },
        "id": "tmyAbVr1ELth",
        "outputId": "05717c3f-0564-450b-963c-b32dde514599"
      },
      "outputs": [
        {
          "data": {
            "text/plain": [
              "array([0.87165, 0.8624 , 0.868  ])"
            ]
          },
          "execution_count": 23,
          "metadata": {},
          "output_type": "execute_result"
        }
      ],
      "source": [
        "# Acúracia da Validação Cruazada sem Padronização\n",
        "cross_val_score(sgd_claf, X_train, y_train, cv=3, scoring='accuracy')"
      ]
    },
    {
      "cell_type": "code",
      "execution_count": null,
      "metadata": {
        "colab": {
          "base_uri": "https://localhost:8080/"
        },
        "id": "O-zojhAP-Lf7",
        "outputId": "4b285d60-26df-4d3a-cab7-a8107d2784cf"
      },
      "outputs": [
        {
          "data": {
            "text/plain": [
              "array([0.8943 , 0.89765, 0.90425])"
            ]
          },
          "execution_count": 24,
          "metadata": {},
          "output_type": "execute_result"
        }
      ],
      "source": [
        "# Instanciando Padronização\n",
        "scaler = StandardScaler()\n",
        "\n",
        "# Alterando os valor de X_train para padrões\n",
        "X_train_scaler = scaler.fit_transform(X_train.astype(np.float64))\n",
        "\n",
        "# Validação cruzada com Padronização\n",
        "cross_val_score(sgd_claf, X_train_scaler, y_train, cv=3, scoring='accuracy')"
      ]
    },
    {
      "cell_type": "code",
      "execution_count": null,
      "metadata": {
        "colab": {
          "base_uri": "https://localhost:8080/"
        },
        "id": "UTNlZHZLFRUh",
        "outputId": "f87b4fb9-ca62-4f9e-d001-06c9766b8d2d"
      },
      "outputs": [
        {
          "data": {
            "text/plain": [
              "array([[5583,    0,   19,    7,    9,   43,   29,    4,  228,    1],\n",
              "       [   0, 6415,   44,   26,    4,   42,    5,    7,  188,   11],\n",
              "       [  23,   28, 5228,   93,   74,   20,   68,   40,  376,    8],\n",
              "       [  28,   19,  108, 5240,    0,  191,   21,   44,  412,   68],\n",
              "       [  11,   14,   38,    9, 5241,    9,   34,   17,  330,  139],\n",
              "       [  25,   17,   29,  158,   57, 4421,   79,   20,  550,   65],\n",
              "       [  31,   19,   47,    3,   41,   81, 5541,   10,  145,    0],\n",
              "       [  17,   14,   50,   24,   45,   13,    3, 5690,  198,  211],\n",
              "       [  15,   62,   42,   95,    3,  117,   27,    8, 5437,   45],\n",
              "       [  22,   21,   27,   56,  123,   31,    1,  176,  364, 5128]])"
            ]
          },
          "execution_count": 25,
          "metadata": {},
          "output_type": "execute_result"
        }
      ],
      "source": [
        "# Previsão dos valores de y treino com valores de X padronizados\n",
        "y_train_pred = cross_val_predict(sgd_claf, X_train_scaler, y_train, cv=3)\n",
        "\n",
        "# Criação da matrix de confusao\n",
        "conf_mx = confusion_matrix(y_train, y_train_pred)\n",
        "\n",
        "# Matrix de confusao\n",
        "conf_mx"
      ]
    },
    {
      "cell_type": "code",
      "execution_count": null,
      "metadata": {
        "colab": {
          "base_uri": "https://localhost:8080/",
          "height": 438
        },
        "id": "o34FK---wKhl",
        "outputId": "eba4483f-cde9-4df9-d855-155981fd2479"
      },
      "outputs": [
        {
          "data": {
            "image/png": "[encoded data removed]",
            "text/plain": [
              "<Figure size 640x480 with 2 Axes>"
            ]
          },
          "metadata": {},
          "output_type": "display_data"
        }
      ],
      "source": [
        "# Somatorio dos valores das colunas\n",
        "row_sums = conf_mx.sum(axis=1, keepdims=True)\n",
        "\n",
        "# Taxa de erro\n",
        "norm_conf_mx = conf_mx / row_sums\n",
        "\n",
        "# Preenchendo diagonal com valores de zero\n",
        "np.fill_diagonal(norm_conf_mx, 0)\n",
        "\n",
        "# Mapa de Calor da matriz de confusao\n",
        "sns.heatmap(norm_conf_mx, cmap='crest', vmin=0, vmax=0.1).xaxis.tick_top()"
      ]
    },
    {
      "cell_type": "markdown",
      "metadata": {
        "id": "1_hjW4-8NI3X"
      },
      "source": [
        "# Classificação Multilabel\n",
        "\n",
        "Quando o valor de saída pertence a duas ou mais classes."
      ]
    },
    {
      "cell_type": "code",
      "execution_count": null,
      "metadata": {
        "id": "SlL43htw-1YH"
      },
      "outputs": [],
      "source": [
        " # Criando multilabel\n",
        "y_train_large = (np.array(y_train, int) >= 7) # Retorna valor booleano para numero igual 7 ou maior ////// Type mudada de categorica para int\n",
        "y_train_odd = ((np.array(y_train, int) % 2) == 1) # Retorna valor booleano para valores impares\n",
        "y_multilabel = np.c_[y_train_large, y_train_odd] # Criando y com duas variaveis"
      ]
    },
    {
      "cell_type": "code",
      "execution_count": null,
      "metadata": {
        "colab": {
          "base_uri": "https://localhost:8080/",
          "height": 75
        },
        "id": "-UaQFISfUjSP",
        "outputId": "bcd925f8-2e92-4be7-aece-3fa4fdb47f1c"
      },
      "outputs": [
        {
          "data": {
            "text/html": [
              "<style>#sk-container-id-1 {color: black;background-color: white;}#sk-container-id-1 pre{padding: 0;}#sk-container-id-1 div.sk-toggleable {background-color: white;}#sk-container-id-1 label.sk-toggleable__label {cursor: pointer;display: block;width: 100%;margin-bottom: 0;padding: 0.3em;box-sizing: border-box;text-align: center;}#sk-container-id-1 label.sk-toggleable__label-arrow:before {content: \"▸\";float: left;margin-right: 0.25em;color: #696969;}#sk-container-id-1 label.sk-toggleable__label-arrow:hover:before {color: black;}#sk-container-id-1 div.sk-estimator:hover label.sk-toggleable__label-arrow:before {color: black;}#sk-container-id-1 div.sk-toggleable__content {max-height: 0;max-width: 0;overflow: hidden;text-align: left;background-color: #f0f8ff;}#sk-container-id-1 div.sk-toggleable__content pre {margin: 0.2em;color: black;border-radius: 0.25em;background-color: #f0f8ff;}#sk-container-id-1 input.sk-toggleable__control:checked~div.sk-toggleable__content {max-height: 200px;max-width: 100%;overflow: auto;}#sk-container-id-1 input.sk-toggleable__control:checked~label.sk-toggleable__label-arrow:before {content: \"▾\";}#sk-container-id-1 div.sk-estimator input.sk-toggleable__control:checked~label.sk-toggleable__label {background-color: #d4ebff;}#sk-container-id-1 div.sk-label input.sk-toggleable__control:checked~label.sk-toggleable__label {background-color: #d4ebff;}#sk-container-id-1 input.sk-hidden--visually {border: 0;clip: rect(1px 1px 1px 1px);clip: rect(1px, 1px, 1px, 1px);height: 1px;margin: -1px;overflow: hidden;padding: 0;position: absolute;width: 1px;}#sk-container-id-1 div.sk-estimator {font-family: monospace;background-color: #f0f8ff;border: 1px dotted black;border-radius: 0.25em;box-sizing: border-box;margin-bottom: 0.5em;}#sk-container-id-1 div.sk-estimator:hover {background-color: #d4ebff;}#sk-container-id-1 div.sk-parallel-item::after {content: \"\";width: 100%;border-bottom: 1px solid gray;flex-grow: 1;}#sk-container-id-1 div.sk-label:hover label.sk-toggleable__label {background-color: #d4ebff;}#sk-container-id-1 div.sk-serial::before {content: \"\";position: absolute;border-left: 1px solid gray;box-sizing: border-box;top: 0;bottom: 0;left: 50%;z-index: 0;}#sk-container-id-1 div.sk-serial {display: flex;flex-direction: column;align-items: center;background-color: white;padding-right: 0.2em;padding-left: 0.2em;position: relative;}#sk-container-id-1 div.sk-item {position: relative;z-index: 1;}#sk-container-id-1 div.sk-parallel {display: flex;align-items: stretch;justify-content: center;background-color: white;position: relative;}#sk-container-id-1 div.sk-item::before, #sk-container-id-1 div.sk-parallel-item::before {content: \"\";position: absolute;border-left: 1px solid gray;box-sizing: border-box;top: 0;bottom: 0;left: 50%;z-index: -1;}#sk-container-id-1 div.sk-parallel-item {display: flex;flex-direction: column;z-index: 1;position: relative;background-color: white;}#sk-container-id-1 div.sk-parallel-item:first-child::after {align-self: flex-end;width: 50%;}#sk-container-id-1 div.sk-parallel-item:last-child::after {align-self: flex-start;width: 50%;}#sk-container-id-1 div.sk-parallel-item:only-child::after {width: 0;}#sk-container-id-1 div.sk-dashed-wrapped {border: 1px dashed gray;margin: 0 0.4em 0.5em 0.4em;box-sizing: border-box;padding-bottom: 0.4em;background-color: white;}#sk-container-id-1 div.sk-label label {font-family: monospace;font-weight: bold;display: inline-block;line-height: 1.2em;}#sk-container-id-1 div.sk-label-container {text-align: center;}#sk-container-id-1 div.sk-container {/* jupyter's `normalize.less` sets `[hidden] { display: none; }` but bootstrap.min.css set `[hidden] { display: none !important; }` so we also need the `!important` here to be able to override the default hidden behavior on the sphinx rendered scikit-learn.org. See: https://github.com/scikit-learn/scikit-learn/issues/21755 */display: inline-block !important;position: relative;}#sk-container-id-1 div.sk-text-repr-fallback {display: none;}</style><div id=\"sk-container-id-1\" class=\"sk-top-container\"><div class=\"sk-text-repr-fallback\"><pre>KNeighborsClassifier()</pre><b>In a Jupyter environment, please rerun this cell to show the HTML representation or trust the notebook. <br />On GitHub, the HTML representation is unable to render, please try loading this page with nbviewer.org.</b></div><div class=\"sk-container\" hidden><div class=\"sk-item\"><div class=\"sk-estimator sk-toggleable\"><input class=\"sk-toggleable__control sk-hidden--visually\" id=\"sk-estimator-id-1\" type=\"checkbox\" checked><label for=\"sk-estimator-id-1\" class=\"sk-toggleable__label sk-toggleable__label-arrow\">KNeighborsClassifier</label><div class=\"sk-toggleable__content\"><pre>KNeighborsClassifier()</pre></div></div></div></div></div>"
            ],
            "text/plain": [
              "KNeighborsClassifier()"
            ]
          },
          "execution_count": 28,
          "metadata": {},
          "output_type": "execute_result"
        }
      ],
      "source": [
        "# Modelo KNN\n",
        "knn_claf = KNeighborsClassifier()\n",
        "\n",
        "# Treinamento\n",
        "knn_claf.fit(X_train, y_multilabel)"
      ]
    },
    {
      "cell_type": "code",
      "execution_count": null,
      "metadata": {
        "colab": {
          "base_uri": "https://localhost:8080/"
        },
        "id": "DiV1pD4xUz4a",
        "outputId": "dc695ebe-f6dd-424c-93a8-f86d84568a5d"
      },
      "outputs": [
        {
          "data": {
            "text/plain": [
              "array([[False, False]])"
            ]
          },
          "execution_count": 29,
          "metadata": {},
          "output_type": "execute_result"
        }
      ],
      "source": [
        "# Predição da linha 2000\n",
        "knn_claf.predict([X_train.iloc[2000]])"
      ]
    },
    {
      "cell_type": "code",
      "execution_count": null,
      "metadata": {
        "id": "Z4oSspLxZ63_"
      },
      "outputs": [],
      "source": [
        "# Predição De y multilabel\n",
        "y_train_knn_pred = cross_val_predict(knn_claf, X_train, y_multilabel, cv=3)"
      ]
    },
    {
      "cell_type": "markdown",
      "metadata": {
        "id": "IbrY-GpPbgSB"
      },
      "source": [
        "# Multioutput\n",
        "\n",
        "Quando valor de saída é multilabel e pode assumir diversos valores.\n",
        "\n",
        "Ex: Limpar uma imagem. Onde se tem como saída um rótulo para o pixels (multilabel) e que podem assumir valores de 0 a 255 (multiclasse).\n",
        "\n",
        "\n",
        "![image.png](data:image/png;base64,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)\n"
      ]
    },
    {
      "cell_type": "markdown",
      "metadata": {
        "id": "Oyuj1BKRSAEV"
      },
      "source": [
        "# EXERCÍCIOS"
      ]
    },
    {
      "cell_type": "markdown",
      "metadata": {
        "id": "bOt2WnA5U6Zt"
      },
      "source": [
        "## 1 - Conseguir acúracia de 97% ou mais."
      ]
    },
    {
      "cell_type": "code",
      "execution_count": null,
      "metadata": {
        "colab": {
          "base_uri": "https://localhost:8080/"
        },
        "id": "Nje1lj9KdXMQ",
        "outputId": "75c612a6-0974-410f-fe72-32de94c232d7"
      },
      "outputs": [
        {
          "name": "stdout",
          "output_type": "stream",
          "text": [
            "{'leaf_size': 30, 'n_neighbors': 4, 'weights': 'distance'}\n"
          ]
        }
      ],
      "source": [
        "# Dicionário de hiperparametros\n",
        "dict_param = {'n_neighbors': [3, 4, 5 , 7],\n",
        "              'weights': ['uniform', 'distance'],\n",
        "              'leaf_size': [30, 60],\n",
        "              }\n",
        "\n",
        "# Classificador\n",
        "knn_claf = KNeighborsClassifier()\n",
        "\n",
        "# Treinamento para achar os melhores hiperparametros\n",
        "clf = GridSearchCV(knn_claf, dict_param, cv=5)\n",
        "clf.fit(X_train, y_train)\n",
        "\n",
        "print(clf.best_params_)"
      ]
    },
    {
      "cell_type": "code",
      "execution_count": null,
      "metadata": {
        "colab": {
          "base_uri": "https://localhost:8080/"
        },
        "id": "m9KJsB6YSC0i",
        "outputId": "bd065e33-468d-421b-f627-5be4ce26939a"
      },
      "outputs": [
        {
          "data": {
            "text/plain": [
              "0.9714"
            ]
          },
          "execution_count": 8,
          "metadata": {},
          "output_type": "execute_result"
        }
      ],
      "source": [
        "# Classificador com os melhores hiperparametro\n",
        "knn_claf = KNeighborsClassifier(leaf_size=30, n_neighbors=4, weights='distance')\n",
        "\n",
        "# Treinamento\n",
        "knn_claf.fit(X_train, y_train)\n",
        "\n",
        "# Previsão de y no treino de teste\n",
        "y_previsto = knn_claf.predict(X_test)\n",
        "\n",
        "# Acúracia\n",
        "accuracy_score(y_test, y_previsto)"
      ]
    },
    {
      "cell_type": "markdown",
      "metadata": {
        "id": "O3mVZ4urFjpd"
      },
      "source": [
        "## Uma função para criar cópias das imagens deslocadas e adicionar no dataset"
      ]
    },
    {
      "cell_type": "code",
      "execution_count": null,
      "metadata": {
        "id": "xiJlGAu4xZIn"
      },
      "outputs": [],
      "source": [
        "# Função de mover a imagem\n",
        "def mover_imagem(imagem, dx, dy):\n",
        "    imagem = imagem.reshape((28, 28)) # Mudando dimensão para uma matrix 28x28\n",
        "    imagem_move = shift(imagem, [dy, dx]) # Movendo imagem. dy, dx -> varição/derivada em x e y\n",
        "    return imagem_move.reshape([-1]) # Mudando dimensão para 1x784"
      ]
    },
    {
      "cell_type": "code",
      "execution_count": null,
      "metadata": {
        "colab": {
          "base_uri": "https://localhost:8080/",
          "height": 357
        },
        "id": "clnhlCfwx6dx",
        "outputId": "00f213f8-96b4-4130-fa3a-c484f662b1a7"
      },
      "outputs": [
        {
          "output_type": "display_data",
          "data": {
            "text/plain": [
              "<Figure size 1200x400 with 3 Axes>"
            ],
            "image/png": "[encoded data removed]"
          },
          "metadata": {}
        }
      ],
      "source": [
        "# Escolhendo uma imagem do dataset\n",
        "imagem = np.array(X_train.iloc[10000])\n",
        "\n",
        "# Movendo imagem para baixo e esquerda\n",
        "shifted_image_down = mover_imagem(imagem, 0, 5)\n",
        "shifted_image_left = mover_imagem(imagem, -5, 0)\n",
        "\n",
        "# Plotando gráfico\n",
        "plt.figure(figsize=(12,4))\n",
        "plt.subplot(131)\n",
        "plt.title(\"Original\", fontsize=14)\n",
        "plt.imshow(imagem.reshape(28, 28), interpolation=\"nearest\", cmap=\"Greys\")\n",
        "plt.subplot(132)\n",
        "plt.title(\"Baixo\", fontsize=14)\n",
        "plt.imshow(shifted_image_down.reshape(28, 28), interpolation=\"nearest\", cmap=\"Greys\")\n",
        "plt.subplot(133)\n",
        "plt.title(\"Esquerda\", fontsize=14)\n",
        "plt.imshow(shifted_image_left.reshape(28, 28), interpolation=\"nearest\", cmap=\"Greys\");"
      ]
    },
    {
      "cell_type": "code",
      "execution_count": null,
      "metadata": {
        "colab": {
          "base_uri": "https://localhost:8080/",
          "height": 357
        },
        "id": "-7dJ7kULx9ri",
        "outputId": "e8c5e6d7-c3fb-4aaf-bb90-877e6575d05b"
      },
      "outputs": [
        {
          "output_type": "display_data",
          "data": {
            "text/plain": [
              "<Figure size 1200x400 with 2 Axes>"
            ],
            "image/png": "[encoded data removed]"
          },
          "metadata": {}
        }
      ],
      "source": [
        "# Movendo imagem para direita e cima\n",
        "shifted_image_right = mover_imagem(imagem, 5, 0)\n",
        "shifted_image_up = mover_imagem(imagem, 0, -5)\n",
        "\n",
        "# Plotando gráfico\n",
        "plt.figure(figsize=(12,4))\n",
        "plt.subplot(131)\n",
        "plt.title('Direita', fontsize=14)\n",
        "plt.imshow(shifted_image_right.reshape(28,28), cmap='Greys')\n",
        "plt.subplot(132)\n",
        "plt.title('Cima', fontsize=14)\n",
        "plt.imshow(shifted_image_up.reshape(28,28), cmap='Greys');"
      ]
    },
    {
      "cell_type": "code",
      "execution_count": null,
      "metadata": {
        "id": "ormXFOq70AVF"
      },
      "outputs": [],
      "source": [
        "# Criação das imagens deslocadas para esquerda, direita, cima e baixa\n",
        "X_train_augmented = [mover_imagem(imagem, dx, dy) for dx,dy in [[1,0], [-1,0], [0,1], [0,-1]] for imagem in np.array(X_train)]\n",
        "\n",
        "# Concatenação dos dados criados com o original\n",
        "X_train_shifted = np.concatenate((X_train, X_train_augmented))"
      ]
    },
    {
      "cell_type": "code",
      "source": [
        "# Loop para criar novos valores de y\n",
        "y_train_augmented = []\n",
        "for i in range(4):\n",
        "  for y in y_train:\n",
        "    y_train_augmented.append(y)\n",
        "\n",
        "# Concatenação das labels criadas com o original\n",
        "y_train_shifted = np.concatenate((y_train, y_train_augmented))"
      ],
      "metadata": {
        "id": "MMG8SJOO4-gN"
      },
      "execution_count": null,
      "outputs": []
    },
    {
      "cell_type": "code",
      "source": [
        "# Classificador com os melhores hiperparametro\n",
        "knn_claf = KNeighborsClassifier(leaf_size=30, n_neighbors=4, weights='distance')\n",
        "\n",
        "# Treinamento\n",
        "knn_claf.fit(X_train_shifted, y_train_shifted)\n",
        "\n",
        "# Previsão de y no treino de teste\n",
        "y_previsto = knn_claf.predict(X_test)\n",
        "\n",
        "# Acúracia\n",
        "accuracy_score(y_test, y_previsto)"
      ],
      "metadata": {
        "colab": {
          "base_uri": "https://localhost:8080/"
        },
        "id": "CUSjHvrkMYmQ",
        "outputId": "7c155155-5c49-42b1-beef-72ce2a43feb2"
      },
      "execution_count": null,
      "outputs": [
        {
          "output_type": "execute_result",
          "data": {
            "text/plain": [
              "0.9763"
            ]
          },
          "metadata": {},
          "execution_count": 12
        }
      ]
    },
    {
      "cell_type": "markdown",
      "source": [
        "## Titanic"
      ],
      "metadata": {
        "id": "7a638CxJlUn-"
      }
    },
    {
      "cell_type": "markdown",
      "source": [
        "**Objetivo**: Classificar se o passageiro sobreviveu (1) ou nao sobreviveu (0)\n",
        "\n",
        "**Tipo de Aprendizagem**: Supervisionado\n",
        "\n",
        "**Métrica**: Acúracia\n",
        "\n",
        "**Variáveis**:\n",
        "- PassengerId -> Id do passageiros\n",
        "- Survived -> Sobreviveu ou Não (variável target)\n",
        "- Pclass -> Classe do ticket -> 1= Primeira Classe, 2= Segunda Classe\n",
        "- Name -> Nome do Passageiro com título (Mrs, Ms, ...)\n",
        "- Sex -> Homem ou Mulher\n",
        "- SibSp -> Número de irmãos e conjuges\n",
        "- Parch -> Número de pais e filhos\n",
        "- Ticket -> Número do ticket\n",
        "- Fare -> Tarifa do passageiro\n",
        "- Cabin -> número da cabine\n",
        "- Embarked -> Porto de embarque -> C= Cherbourg, Q= Queenstown, S=Southampton"
      ],
      "metadata": {
        "id": "afKCMOxCHhC7"
      }
    },
    {
      "cell_type": "code",
      "source": [
        "# dataframe de treino\n",
        "tita_train = pd.read_csv(\"/content/drive/MyDrive/Programação/LIVRO O'REILLY/3_CAPITULO/train.csv\")\n",
        "\n",
        "# dataframe de teste\n",
        "tita_test = pd.read_csv(\"/content/drive/MyDrive/Programação/LIVRO O'REILLY/3_CAPITULO/test.csv\")"
      ],
      "metadata": {
        "id": "IKg9RBmgy8-a"
      },
      "execution_count": null,
      "outputs": []
    },
    {
      "cell_type": "code",
      "source": [
        "# Dataframe\n",
        "tita_train.head(10)"
      ],
      "metadata": {
        "colab": {
          "base_uri": "https://localhost:8080/",
          "height": 363
        },
        "id": "QHNOSBYwl-ft",
        "outputId": "db1604d2-2567-4cea-8277-0d9210837c4e"
      },
      "execution_count": null,
      "outputs": [
        {
          "output_type": "execute_result",
          "data": {
            "text/plain": [
              "   PassengerId  Survived  Pclass  \\\n",
              "0            1         0       3   \n",
              "1            2         1       1   \n",
              "2            3         1       3   \n",
              "3            4         1       1   \n",
              "4            5         0       3   \n",
              "5            6         0       3   \n",
              "6            7         0       1   \n",
              "7            8         0       3   \n",
              "8            9         1       3   \n",
              "9           10         1       2   \n",
              "\n",
              "                                                Name     Sex   Age  SibSp  \\\n",
              "0                            Braund, Mr. Owen Harris    male  22.0      1   \n",
              "1  Cumings, Mrs. John Bradley (Florence Briggs Th...  female  38.0      1   \n",
              "2                             Heikkinen, Miss. Laina  female  26.0      0   \n",
              "3       Futrelle, Mrs. Jacques Heath (Lily May Peel)  female  35.0      1   \n",
              "4                           Allen, Mr. William Henry    male  35.0      0   \n",
              "5                                   Moran, Mr. James    male   NaN      0   \n",
              "6                            McCarthy, Mr. Timothy J    male  54.0      0   \n",
              "7                     Palsson, Master. Gosta Leonard    male   2.0      3   \n",
              "8  Johnson, Mrs. Oscar W (Elisabeth Vilhelmina Berg)  female  27.0      0   \n",
              "9                Nasser, Mrs. Nicholas (Adele Achem)  female  14.0      1   \n",
              "\n",
              "   Parch            Ticket     Fare Cabin Embarked  \n",
              "0      0         A/5 21171   7.2500   NaN        S  \n",
              "1      0          PC 17599  71.2833   C85        C  \n",
              "2      0  STON/O2. 3101282   7.9250   NaN        S  \n",
              "3      0            113803  53.1000  C123        S  \n",
              "4      0            373450   8.0500   NaN        S  \n",
              "5      0            330877   8.4583   NaN        Q  \n",
              "6      0             17463  51.8625   E46        S  \n",
              "7      1            349909  21.0750   NaN        S  \n",
              "8      2            347742  11.1333   NaN        S  \n",
              "9      0            237736  30.0708   NaN        C  "
            ],
            "text/html": [
              "\n",
              "\n",
              "  <div id=\"df-1d24b8f0-a6f4-4a64-b410-1c1fc1863824\">\n",
              "    <div class=\"colab-df-container\">\n",
              "      <div>\n",
              "<style scoped>\n",
              "    .dataframe tbody tr th:only-of-type {\n",
              "        vertical-align: middle;\n",
              "    }\n",
              "\n",
              "    .dataframe tbody tr th {\n",
              "        vertical-align: top;\n",
              "    }\n",
              "\n",
              "    .dataframe thead th {\n",
              "        text-align: right;\n",
              "    }\n",
              "</style>\n",
              "<table border=\"1\" class=\"dataframe\">\n",
              "  <thead>\n",
              "    <tr style=\"text-align: right;\">\n",
              "      <th></th>\n",
              "      <th>PassengerId</th>\n",
              "      <th>Survived</th>\n",
              "      <th>Pclass</th>\n",
              "      <th>Name</th>\n",
              "      <th>Sex</th>\n",
              "      <th>Age</th>\n",
              "      <th>SibSp</th>\n",
              "      <th>Parch</th>\n",
              "      <th>Ticket</th>\n",
              "      <th>Fare</th>\n",
              "      <th>Cabin</th>\n",
              "      <th>Embarked</th>\n",
              "    </tr>\n",
              "  </thead>\n",
              "  <tbody>\n",
              "    <tr>\n",
              "      <th>0</th>\n",
              "      <td>1</td>\n",
              "      <td>0</td>\n",
              "      <td>3</td>\n",
              "      <td>Braund, Mr. Owen Harris</td>\n",
              "      <td>male</td>\n",
              "      <td>22.0</td>\n",
              "      <td>1</td>\n",
              "      <td>0</td>\n",
              "      <td>A/5 21171</td>\n",
              "      <td>7.2500</td>\n",
              "      <td>NaN</td>\n",
              "      <td>S</td>\n",
              "    </tr>\n",
              "    <tr>\n",
              "      <th>1</th>\n",
              "      <td>2</td>\n",
              "      <td>1</td>\n",
              "      <td>1</td>\n",
              "      <td>Cumings, Mrs. John Bradley (Florence Briggs Th...</td>\n",
              "      <td>female</td>\n",
              "      <td>38.0</td>\n",
              "      <td>1</td>\n",
              "      <td>0</td>\n",
              "      <td>PC 17599</td>\n",
              "      <td>71.2833</td>\n",
              "      <td>C85</td>\n",
              "      <td>C</td>\n",
              "    </tr>\n",
              "    <tr>\n",
              "      <th>2</th>\n",
              "      <td>3</td>\n",
              "      <td>1</td>\n",
              "      <td>3</td>\n",
              "      <td>Heikkinen, Miss. Laina</td>\n",
              "      <td>female</td>\n",
              "      <td>26.0</td>\n",
              "      <td>0</td>\n",
              "      <td>0</td>\n",
              "      <td>STON/O2. 3101282</td>\n",
              "      <td>7.9250</td>\n",
              "      <td>NaN</td>\n",
              "      <td>S</td>\n",
              "    </tr>\n",
              "    <tr>\n",
              "      <th>3</th>\n",
              "      <td>4</td>\n",
              "      <td>1</td>\n",
              "      <td>1</td>\n",
              "      <td>Futrelle, Mrs. Jacques Heath (Lily May Peel)</td>\n",
              "      <td>female</td>\n",
              "      <td>35.0</td>\n",
              "      <td>1</td>\n",
              "      <td>0</td>\n",
              "      <td>113803</td>\n",
              "      <td>53.1000</td>\n",
              "      <td>C123</td>\n",
              "      <td>S</td>\n",
              "    </tr>\n",
              "    <tr>\n",
              "      <th>4</th>\n",
              "      <td>5</td>\n",
              "      <td>0</td>\n",
              "      <td>3</td>\n",
              "      <td>Allen, Mr. William Henry</td>\n",
              "      <td>male</td>\n",
              "      <td>35.0</td>\n",
              "      <td>0</td>\n",
              "      <td>0</td>\n",
              "      <td>373450</td>\n",
              "      <td>8.0500</td>\n",
              "      <td>NaN</td>\n",
              "      <td>S</td>\n",
              "    </tr>\n",
              "    <tr>\n",
              "      <th>5</th>\n",
              "      <td>6</td>\n",
              "      <td>0</td>\n",
              "      <td>3</td>\n",
              "      <td>Moran, Mr. James</td>\n",
              "      <td>male</td>\n",
              "      <td>NaN</td>\n",
              "      <td>0</td>\n",
              "      <td>0</td>\n",
              "      <td>330877</td>\n",
              "      <td>8.4583</td>\n",
              "      <td>NaN</td>\n",
              "      <td>Q</td>\n",
              "    </tr>\n",
              "    <tr>\n",
              "      <th>6</th>\n",
              "      <td>7</td>\n",
              "      <td>0</td>\n",
              "      <td>1</td>\n",
              "      <td>McCarthy, Mr. Timothy J</td>\n",
              "      <td>male</td>\n",
              "      <td>54.0</td>\n",
              "      <td>0</td>\n",
              "      <td>0</td>\n",
              "      <td>17463</td>\n",
              "      <td>51.8625</td>\n",
              "      <td>E46</td>\n",
              "      <td>S</td>\n",
              "    </tr>\n",
              "    <tr>\n",
              "      <th>7</th>\n",
              "      <td>8</td>\n",
              "      <td>0</td>\n",
              "      <td>3</td>\n",
              "      <td>Palsson, Master. Gosta Leonard</td>\n",
              "      <td>male</td>\n",
              "      <td>2.0</td>\n",
              "      <td>3</td>\n",
              "      <td>1</td>\n",
              "      <td>349909</td>\n",
              "      <td>21.0750</td>\n",
              "      <td>NaN</td>\n",
              "      <td>S</td>\n",
              "    </tr>\n",
              "    <tr>\n",
              "      <th>8</th>\n",
              "      <td>9</td>\n",
              "      <td>1</td>\n",
              "      <td>3</td>\n",
              "      <td>Johnson, Mrs. Oscar W (Elisabeth Vilhelmina Berg)</td>\n",
              "      <td>female</td>\n",
              "      <td>27.0</td>\n",
              "      <td>0</td>\n",
              "      <td>2</td>\n",
              "      <td>347742</td>\n",
              "      <td>11.1333</td>\n",
              "      <td>NaN</td>\n",
              "      <td>S</td>\n",
              "    </tr>\n",
              "    <tr>\n",
              "      <th>9</th>\n",
              "      <td>10</td>\n",
              "      <td>1</td>\n",
              "      <td>2</td>\n",
              "      <td>Nasser, Mrs. Nicholas (Adele Achem)</td>\n",
              "      <td>female</td>\n",
              "      <td>14.0</td>\n",
              "      <td>1</td>\n",
              "      <td>0</td>\n",
              "      <td>237736</td>\n",
              "      <td>30.0708</td>\n",
              "      <td>NaN</td>\n",
              "      <td>C</td>\n",
              "    </tr>\n",
              "  </tbody>\n",
              "</table>\n",
              "</div>\n",
              "      <button class=\"colab-df-convert\" onclick=\"convertToInteractive('df-1d24b8f0-a6f4-4a64-b410-1c1fc1863824')\"\n",
              "              title=\"Convert this dataframe to an interactive table.\"\n",
              "              style=\"display:none;\">\n",
              "\n",
              "  <svg xmlns=\"http://www.w3.org/2000/svg\" height=\"24px\"viewBox=\"0 0 24 24\"\n",
              "       width=\"24px\">\n",
              "    <path d=\"M0 0h24v24H0V0z\" fill=\"none\"/>\n",
              "    <path d=\"M18.56 5.44l.94 2.06.94-2.06 2.06-.94-2.06-.94-.94-2.06-.94 2.06-2.06.94zm-11 1L8.5 8.5l.94-2.06 2.06-.94-2.06-.94L8.5 2.5l-.94 2.06-2.06.94zm10 10l.94 2.06.94-2.06 2.06-.94-2.06-.94-.94-2.06-.94 2.06-2.06.94z\"/><path d=\"M17.41 7.96l-1.37-1.37c-.4-.4-.92-.59-1.43-.59-.52 0-1.04.2-1.43.59L10.3 9.45l-7.72 7.72c-.78.78-.78 2.05 0 2.83L4 21.41c.39.39.9.59 1.41.59.51 0 1.02-.2 1.41-.59l7.78-7.78 2.81-2.81c.8-.78.8-2.07 0-2.86zM5.41 20L4 18.59l7.72-7.72 1.47 1.35L5.41 20z\"/>\n",
              "  </svg>\n",
              "      </button>\n",
              "\n",
              "\n",
              "\n",
              "    <div id=\"df-3f96093e-beb6-4fdf-bfdb-c317f7c84b7e\">\n",
              "      <button class=\"colab-df-quickchart\" onclick=\"quickchart('df-3f96093e-beb6-4fdf-bfdb-c317f7c84b7e')\"\n",
              "              title=\"Suggest charts.\"\n",
              "              style=\"display:none;\">\n",
              "\n",
              "<svg xmlns=\"http://www.w3.org/2000/svg\" height=\"24px\"viewBox=\"0 0 24 24\"\n",
              "     width=\"24px\">\n",
              "    <g>\n",
              "        <path d=\"M19 3H5c-1.1 0-2 .9-2 2v14c0 1.1.9 2 2 2h14c1.1 0 2-.9 2-2V5c0-1.1-.9-2-2-2zM9 17H7v-7h2v7zm4 0h-2V7h2v10zm4 0h-2v-4h2v4z\"/>\n",
              "    </g>\n",
              "</svg>\n",
              "      </button>\n",
              "    </div>\n",
              "\n",
              "<style>\n",
              "  .colab-df-quickchart {\n",
              "    background-color: #E8F0FE;\n",
              "    border: none;\n",
              "    border-radius: 50%;\n",
              "    cursor: pointer;\n",
              "    display: none;\n",
              "    fill: #1967D2;\n",
              "    height: 32px;\n",
              "    padding: 0 0 0 0;\n",
              "    width: 32px;\n",
              "  }\n",
              "\n",
              "  .colab-df-quickchart:hover {\n",
              "    background-color: #E2EBFA;\n",
              "    box-shadow: 0px 1px 2px rgba(60, 64, 67, 0.3), 0px 1px 3px 1px rgba(60, 64, 67, 0.15);\n",
              "    fill: #174EA6;\n",
              "  }\n",
              "\n",
              "  [theme=dark] .colab-df-quickchart {\n",
              "    background-color: #3B4455;\n",
              "    fill: #D2E3FC;\n",
              "  }\n",
              "\n",
              "  [theme=dark] .colab-df-quickchart:hover {\n",
              "    background-color: #434B5C;\n",
              "    box-shadow: 0px 1px 3px 1px rgba(0, 0, 0, 0.15);\n",
              "    filter: drop-shadow(0px 1px 2px rgba(0, 0, 0, 0.3));\n",
              "    fill: #FFFFFF;\n",
              "  }\n",
              "</style>\n",
              "\n",
              "    <script>\n",
              "      async function quickchart(key) {\n",
              "        const containerElement = document.querySelector('#' + key);\n",
              "        const charts = await google.colab.kernel.invokeFunction(\n",
              "            'suggestCharts', [key], {});\n",
              "      }\n",
              "    </script>\n",
              "\n",
              "      <script>\n",
              "\n",
              "function displayQuickchartButton(domScope) {\n",
              "  let quickchartButtonEl =\n",
              "    domScope.querySelector('#df-3f96093e-beb6-4fdf-bfdb-c317f7c84b7e button.colab-df-quickchart');\n",
              "  quickchartButtonEl.style.display =\n",
              "    google.colab.kernel.accessAllowed ? 'block' : 'none';\n",
              "}\n",
              "\n",
              "        displayQuickchartButton(document);\n",
              "      </script>\n",
              "      <style>\n",
              "    .colab-df-container {\n",
              "      display:flex;\n",
              "      flex-wrap:wrap;\n",
              "      gap: 12px;\n",
              "    }\n",
              "\n",
              "    .colab-df-convert {\n",
              "      background-color: #E8F0FE;\n",
              "      border: none;\n",
              "      border-radius: 50%;\n",
              "      cursor: pointer;\n",
              "      display: none;\n",
              "      fill: #1967D2;\n",
              "      height: 32px;\n",
              "      padding: 0 0 0 0;\n",
              "      width: 32px;\n",
              "    }\n",
              "\n",
              "    .colab-df-convert:hover {\n",
              "      background-color: #E2EBFA;\n",
              "      box-shadow: 0px 1px 2px rgba(60, 64, 67, 0.3), 0px 1px 3px 1px rgba(60, 64, 67, 0.15);\n",
              "      fill: #174EA6;\n",
              "    }\n",
              "\n",
              "    [theme=dark] .colab-df-convert {\n",
              "      background-color: #3B4455;\n",
              "      fill: #D2E3FC;\n",
              "    }\n",
              "\n",
              "    [theme=dark] .colab-df-convert:hover {\n",
              "      background-color: #434B5C;\n",
              "      box-shadow: 0px 1px 3px 1px rgba(0, 0, 0, 0.15);\n",
              "      filter: drop-shadow(0px 1px 2px rgba(0, 0, 0, 0.3));\n",
              "      fill: #FFFFFF;\n",
              "    }\n",
              "  </style>\n",
              "\n",
              "      <script>\n",
              "        const buttonEl =\n",
              "          document.querySelector('#df-1d24b8f0-a6f4-4a64-b410-1c1fc1863824 button.colab-df-convert');\n",
              "        buttonEl.style.display =\n",
              "          google.colab.kernel.accessAllowed ? 'block' : 'none';\n",
              "\n",
              "        async function convertToInteractive(key) {\n",
              "          const element = document.querySelector('#df-1d24b8f0-a6f4-4a64-b410-1c1fc1863824');\n",
              "          const dataTable =\n",
              "            await google.colab.kernel.invokeFunction('convertToInteractive',\n",
              "                                                     [key], {});\n",
              "          if (!dataTable) return;\n",
              "\n",
              "          const docLinkHtml = 'Like what you see? Visit the ' +\n",
              "            '<a target=\"_blank\" href=https://colab.research.google.com/notebooks/data_table.ipynb>data table notebook</a>'\n",
              "            + ' to learn more about interactive tables.';\n",
              "          element.innerHTML = '';\n",
              "          dataTable['output_type'] = 'display_data';\n",
              "          await google.colab.output.renderOutput(dataTable, element);\n",
              "          const docLink = document.createElement('div');\n",
              "          docLink.innerHTML = docLinkHtml;\n",
              "          element.appendChild(docLink);\n",
              "        }\n",
              "      </script>\n",
              "    </div>\n",
              "  </div>\n"
            ]
          },
          "metadata": {},
          "execution_count": 15
        }
      ]
    },
    {
      "cell_type": "code",
      "source": [
        "# Informações do dataset\n",
        "tita_train.info()"
      ],
      "metadata": {
        "colab": {
          "base_uri": "https://localhost:8080/"
        },
        "id": "sVzVVFvRvph8",
        "outputId": "338bed04-a432-45ff-8d4c-b3c8bba89654"
      },
      "execution_count": null,
      "outputs": [
        {
          "output_type": "stream",
          "name": "stdout",
          "text": [
            "<class 'pandas.core.frame.DataFrame'>\n",
            "RangeIndex: 891 entries, 0 to 890\n",
            "Data columns (total 12 columns):\n",
            " #   Column       Non-Null Count  Dtype  \n",
            "---  ------       --------------  -----  \n",
            " 0   PassengerId  891 non-null    int64  \n",
            " 1   Survived     891 non-null    int64  \n",
            " 2   Pclass       891 non-null    int64  \n",
            " 3   Name         891 non-null    object \n",
            " 4   Sex          891 non-null    object \n",
            " 5   Age          714 non-null    float64\n",
            " 6   SibSp        891 non-null    int64  \n",
            " 7   Parch        891 non-null    int64  \n",
            " 8   Ticket       891 non-null    object \n",
            " 9   Fare         891 non-null    float64\n",
            " 10  Cabin        204 non-null    object \n",
            " 11  Embarked     889 non-null    object \n",
            "dtypes: float64(2), int64(5), object(5)\n",
            "memory usage: 83.7+ KB\n"
          ]
        }
      ]
    },
    {
      "cell_type": "code",
      "source": [
        "# Valores nulos presentes por coluna/variável\n",
        "tita_train.isnull().sum()"
      ],
      "metadata": {
        "colab": {
          "base_uri": "https://localhost:8080/"
        },
        "id": "zkV0RaWambmm",
        "outputId": "f5ff8611-349a-4f43-aea7-0701582bf29c"
      },
      "execution_count": null,
      "outputs": [
        {
          "output_type": "execute_result",
          "data": {
            "text/plain": [
              "PassengerId      0\n",
              "Survived         0\n",
              "Pclass           0\n",
              "Name             0\n",
              "Sex              0\n",
              "Age            177\n",
              "SibSp            0\n",
              "Parch            0\n",
              "Ticket           0\n",
              "Fare             0\n",
              "Cabin          687\n",
              "Embarked         2\n",
              "dtype: int64"
            ]
          },
          "metadata": {},
          "execution_count": 10
        }
      ]
    },
    {
      "cell_type": "code",
      "source": [
        "# Quantidade de valores diferentes por cada variável\n",
        "tita_train.nunique()"
      ],
      "metadata": {
        "id": "w4SAY_V22lsT",
        "colab": {
          "base_uri": "https://localhost:8080/"
        },
        "outputId": "4ea642ce-9706-4c8e-89ae-7e2cc30c9c7e"
      },
      "execution_count": null,
      "outputs": [
        {
          "output_type": "execute_result",
          "data": {
            "text/plain": [
              "PassengerId    891\n",
              "Survived         2\n",
              "Pclass           3\n",
              "Name           891\n",
              "Sex              2\n",
              "Age             88\n",
              "SibSp            7\n",
              "Parch            7\n",
              "Ticket         681\n",
              "Fare           248\n",
              "Cabin          147\n",
              "Embarked         3\n",
              "dtype: int64"
            ]
          },
          "metadata": {},
          "execution_count": 11
        }
      ]
    },
    {
      "cell_type": "code",
      "source": [
        "# Histograma do Sexo\n",
        "plt.hist(tita_train['Sex']);"
      ],
      "metadata": {
        "id": "o-xdWs6q1xSw",
        "colab": {
          "base_uri": "https://localhost:8080/",
          "height": 432
        },
        "outputId": "5dc36936-b2e2-4553-ded7-843da67973e4"
      },
      "execution_count": null,
      "outputs": [
        {
          "output_type": "display_data",
          "data": {
            "text/plain": [
              "<Figure size 640x480 with 1 Axes>"
            ],
            "image/png": "[encoded data removed]"
          },
          "metadata": {}
        }
      ]
    },
    {
      "cell_type": "code",
      "source": [
        "# Histograma por classe do vagão\n",
        "plt.hist(tita_train['Pclass'])\n",
        "plt.xticks([1,2,3]);"
      ],
      "metadata": {
        "colab": {
          "base_uri": "https://localhost:8080/",
          "height": 430
        },
        "id": "TOveqfoUV-bW",
        "outputId": "c8c1d1aa-1148-4893-e7d3-a1da6c50b42c"
      },
      "execution_count": null,
      "outputs": [
        {
          "output_type": "display_data",
          "data": {
            "text/plain": [
              "<Figure size 640x480 with 1 Axes>"
            ],
            "image/png": "[encoded data removed]"
          },
          "metadata": {}
        }
      ]
    },
    {
      "cell_type": "code",
      "source": [
        "tita_train['Embarked'].value_counts()"
      ],
      "metadata": {
        "colab": {
          "base_uri": "https://localhost:8080/"
        },
        "id": "KzEZP_GGM4GR",
        "outputId": "929a9cb5-9433-4108-a86e-14ded3caff69"
      },
      "execution_count": null,
      "outputs": [
        {
          "output_type": "execute_result",
          "data": {
            "text/plain": [
              "S    644\n",
              "C    168\n",
              "Q     77\n",
              "Name: Embarked, dtype: int64"
            ]
          },
          "metadata": {},
          "execution_count": 14
        }
      ]
    },
    {
      "cell_type": "code",
      "source": [
        "# Informações das variáveis continuas\n",
        "tita_train[['Age', 'SibSp', 'Parch', 'Fare']].describe()"
      ],
      "metadata": {
        "colab": {
          "base_uri": "https://localhost:8080/",
          "height": 300
        },
        "id": "mndM-q_seLOZ",
        "outputId": "40afc0e0-7442-4808-b439-8ad96de1bcba"
      },
      "execution_count": null,
      "outputs": [
        {
          "output_type": "execute_result",
          "data": {
            "text/plain": [
              "              Age       SibSp       Parch        Fare\n",
              "count  714.000000  891.000000  891.000000  891.000000\n",
              "mean    29.699118    0.523008    0.381594   32.204208\n",
              "std     14.526497    1.102743    0.806057   49.693429\n",
              "min      0.420000    0.000000    0.000000    0.000000\n",
              "25%     20.125000    0.000000    0.000000    7.910400\n",
              "50%     28.000000    0.000000    0.000000   14.454200\n",
              "75%     38.000000    1.000000    0.000000   31.000000\n",
              "max     80.000000    8.000000    6.000000  512.329200"
            ],
            "text/html": [
              "\n",
              "  <div id=\"df-6440bb64-aa77-4171-9252-b1a4060b28c9\">\n",
              "    <div class=\"colab-df-container\">\n",
              "      <div>\n",
              "<style scoped>\n",
              "    .dataframe tbody tr th:only-of-type {\n",
              "        vertical-align: middle;\n",
              "    }\n",
              "\n",
              "    .dataframe tbody tr th {\n",
              "        vertical-align: top;\n",
              "    }\n",
              "\n",
              "    .dataframe thead th {\n",
              "        text-align: right;\n",
              "    }\n",
              "</style>\n",
              "<table border=\"1\" class=\"dataframe\">\n",
              "  <thead>\n",
              "    <tr style=\"text-align: right;\">\n",
              "      <th></th>\n",
              "      <th>Age</th>\n",
              "      <th>SibSp</th>\n",
              "      <th>Parch</th>\n",
              "      <th>Fare</th>\n",
              "    </tr>\n",
              "  </thead>\n",
              "  <tbody>\n",
              "    <tr>\n",
              "      <th>count</th>\n",
              "      <td>714.000000</td>\n",
              "      <td>891.000000</td>\n",
              "      <td>891.000000</td>\n",
              "      <td>891.000000</td>\n",
              "    </tr>\n",
              "    <tr>\n",
              "      <th>mean</th>\n",
              "      <td>29.699118</td>\n",
              "      <td>0.523008</td>\n",
              "      <td>0.381594</td>\n",
              "      <td>32.204208</td>\n",
              "    </tr>\n",
              "    <tr>\n",
              "      <th>std</th>\n",
              "      <td>14.526497</td>\n",
              "      <td>1.102743</td>\n",
              "      <td>0.806057</td>\n",
              "      <td>49.693429</td>\n",
              "    </tr>\n",
              "    <tr>\n",
              "      <th>min</th>\n",
              "      <td>0.420000</td>\n",
              "      <td>0.000000</td>\n",
              "      <td>0.000000</td>\n",
              "      <td>0.000000</td>\n",
              "    </tr>\n",
              "    <tr>\n",
              "      <th>25%</th>\n",
              "      <td>20.125000</td>\n",
              "      <td>0.000000</td>\n",
              "      <td>0.000000</td>\n",
              "      <td>7.910400</td>\n",
              "    </tr>\n",
              "    <tr>\n",
              "      <th>50%</th>\n",
              "      <td>28.000000</td>\n",
              "      <td>0.000000</td>\n",
              "      <td>0.000000</td>\n",
              "      <td>14.454200</td>\n",
              "    </tr>\n",
              "    <tr>\n",
              "      <th>75%</th>\n",
              "      <td>38.000000</td>\n",
              "      <td>1.000000</td>\n",
              "      <td>0.000000</td>\n",
              "      <td>31.000000</td>\n",
              "    </tr>\n",
              "    <tr>\n",
              "      <th>max</th>\n",
              "      <td>80.000000</td>\n",
              "      <td>8.000000</td>\n",
              "      <td>6.000000</td>\n",
              "      <td>512.329200</td>\n",
              "    </tr>\n",
              "  </tbody>\n",
              "</table>\n",
              "</div>\n",
              "      <button class=\"colab-df-convert\" onclick=\"convertToInteractive('df-6440bb64-aa77-4171-9252-b1a4060b28c9')\"\n",
              "              title=\"Convert this dataframe to an interactive table.\"\n",
              "              style=\"display:none;\">\n",
              "        \n",
              "  <svg xmlns=\"http://www.w3.org/2000/svg\" height=\"24px\"viewBox=\"0 0 24 24\"\n",
              "       width=\"24px\">\n",
              "    <path d=\"M0 0h24v24H0V0z\" fill=\"none\"/>\n",
              "    <path d=\"M18.56 5.44l.94 2.06.94-2.06 2.06-.94-2.06-.94-.94-2.06-.94 2.06-2.06.94zm-11 1L8.5 8.5l.94-2.06 2.06-.94-2.06-.94L8.5 2.5l-.94 2.06-2.06.94zm10 10l.94 2.06.94-2.06 2.06-.94-2.06-.94-.94-2.06-.94 2.06-2.06.94z\"/><path d=\"M17.41 7.96l-1.37-1.37c-.4-.4-.92-.59-1.43-.59-.52 0-1.04.2-1.43.59L10.3 9.45l-7.72 7.72c-.78.78-.78 2.05 0 2.83L4 21.41c.39.39.9.59 1.41.59.51 0 1.02-.2 1.41-.59l7.78-7.78 2.81-2.81c.8-.78.8-2.07 0-2.86zM5.41 20L4 18.59l7.72-7.72 1.47 1.35L5.41 20z\"/>\n",
              "  </svg>\n",
              "      </button>\n",
              "      \n",
              "  <style>\n",
              "    .colab-df-container {\n",
              "      display:flex;\n",
              "      flex-wrap:wrap;\n",
              "      gap: 12px;\n",
              "    }\n",
              "\n",
              "    .colab-df-convert {\n",
              "      background-color: #E8F0FE;\n",
              "      border: none;\n",
              "      border-radius: 50%;\n",
              "      cursor: pointer;\n",
              "      display: none;\n",
              "      fill: #1967D2;\n",
              "      height: 32px;\n",
              "      padding: 0 0 0 0;\n",
              "      width: 32px;\n",
              "    }\n",
              "\n",
              "    .colab-df-convert:hover {\n",
              "      background-color: #E2EBFA;\n",
              "      box-shadow: 0px 1px 2px rgba(60, 64, 67, 0.3), 0px 1px 3px 1px rgba(60, 64, 67, 0.15);\n",
              "      fill: #174EA6;\n",
              "    }\n",
              "\n",
              "    [theme=dark] .colab-df-convert {\n",
              "      background-color: #3B4455;\n",
              "      fill: #D2E3FC;\n",
              "    }\n",
              "\n",
              "    [theme=dark] .colab-df-convert:hover {\n",
              "      background-color: #434B5C;\n",
              "      box-shadow: 0px 1px 3px 1px rgba(0, 0, 0, 0.15);\n",
              "      filter: drop-shadow(0px 1px 2px rgba(0, 0, 0, 0.3));\n",
              "      fill: #FFFFFF;\n",
              "    }\n",
              "  </style>\n",
              "\n",
              "      <script>\n",
              "        const buttonEl =\n",
              "          document.querySelector('#df-6440bb64-aa77-4171-9252-b1a4060b28c9 button.colab-df-convert');\n",
              "        buttonEl.style.display =\n",
              "          google.colab.kernel.accessAllowed ? 'block' : 'none';\n",
              "\n",
              "        async function convertToInteractive(key) {\n",
              "          const element = document.querySelector('#df-6440bb64-aa77-4171-9252-b1a4060b28c9');\n",
              "          const dataTable =\n",
              "            await google.colab.kernel.invokeFunction('convertToInteractive',\n",
              "                                                     [key], {});\n",
              "          if (!dataTable) return;\n",
              "\n",
              "          const docLinkHtml = 'Like what you see? Visit the ' +\n",
              "            '<a target=\"_blank\" href=https://colab.research.google.com/notebooks/data_table.ipynb>data table notebook</a>'\n",
              "            + ' to learn more about interactive tables.';\n",
              "          element.innerHTML = '';\n",
              "          dataTable['output_type'] = 'display_data';\n",
              "          await google.colab.output.renderOutput(dataTable, element);\n",
              "          const docLink = document.createElement('div');\n",
              "          docLink.innerHTML = docLinkHtml;\n",
              "          element.appendChild(docLink);\n",
              "        }\n",
              "      </script>\n",
              "    </div>\n",
              "  </div>\n",
              "  "
            ]
          },
          "metadata": {},
          "execution_count": 15
        }
      ]
    },
    {
      "cell_type": "code",
      "source": [
        "# Mapa de Calor de correlação\n",
        "sns.heatmap(tita_train.corr(), annot=True, vmin=0, vmax=1);"
      ],
      "metadata": {
        "colab": {
          "base_uri": "https://localhost:8080/",
          "height": 505
        },
        "id": "kEUq6XYo_8-V",
        "outputId": "c6f55abe-f0ee-4528-f6e2-d5079aa1757a"
      },
      "execution_count": null,
      "outputs": [
        {
          "output_type": "display_data",
          "data": {
            "text/plain": [
              "<Figure size 640x480 with 2 Axes>"
            ],
            "image/png": "[encoded data removed]"
          },
          "metadata": {}
        }
      ]
    },
    {
      "cell_type": "markdown",
      "source": [
        "### Primeiro Modelo"
      ],
      "metadata": {
        "id": "0X0aqhnNkoIy"
      }
    },
    {
      "cell_type": "code",
      "source": [
        "# Separando x e y\n",
        "x_train = tita_train.drop(['Survived'], axis=1)\n",
        "y_train = tita_train['Survived']"
      ],
      "metadata": {
        "id": "aTnvtVmE3yvk"
      },
      "execution_count": null,
      "outputs": []
    },
    {
      "cell_type": "code",
      "source": [
        "x_train.drop(['PassengerId', 'Cabin', 'Ticket', 'Name'], axis=1, inplace=True)"
      ],
      "metadata": {
        "id": "yHNf5kjO_JoO"
      },
      "execution_count": null,
      "outputs": []
    },
    {
      "cell_type": "markdown",
      "source": [
        "Motivos de retirar as seguintes variáveis:\n",
        "- PassengerId = Apenas um número de identificação do passageiro, não há importância nessa situação de análise.\n",
        "- Cabin = Alta % de valores missing e dos poucos valores que sobraram há uma grande diferença de valores. É possível analisa-la mas optei por retirar.\n",
        "- Ticket e Name = São possiveis de ser analisadas mas para simplificar o problema não serão utilizadas."
      ],
      "metadata": {
        "id": "upeZM-7QD0NX"
      }
    },
    {
      "cell_type": "code",
      "source": [
        "# Preenchendo valores missing em Age com a média\n",
        "x_train['Age'].fillna(x_train['Age'].median(), axis=0, inplace=True )\n",
        "# Preenchendo valores missing em Embarked com o valor que mais se repete\n",
        "x_train['Embarked'].fillna('S', axis=0, inplace=True)"
      ],
      "metadata": {
        "id": "mZnUXd1iMZXg"
      },
      "execution_count": null,
      "outputs": []
    },
    {
      "cell_type": "code",
      "source": [
        "# Variáveis STR são transformados em novas variáveis one hot enconder\n",
        "x_train_dummie = pd.get_dummies(x_train, drop_first=True)"
      ],
      "metadata": {
        "id": "b3gt1MPSJeKz"
      },
      "execution_count": null,
      "outputs": []
    },
    {
      "cell_type": "code",
      "source": [
        "# Modelo Random Forest\n",
        "rf_class = RandomForestClassifier()\n",
        "\n",
        "# Previsão utilizando cross validation\n",
        "y_train_pred_rf = cross_val_predict(rf_class, x_train_dummie, y_train, cv=3)\n",
        "\n",
        "# Criação da matrix de confusao\n",
        "conf_mx = confusion_matrix(y_train, y_train_pred_rf)\n",
        "\n",
        "print(conf_mx)"
      ],
      "metadata": {
        "colab": {
          "base_uri": "https://localhost:8080/"
        },
        "id": "crOV0yVJJ0P7",
        "outputId": "c20e9fe2-0d64-485f-a617-a65812a9dd18"
      },
      "execution_count": null,
      "outputs": [
        {
          "output_type": "stream",
          "name": "stdout",
          "text": [
            "[[463  86]\n",
            " [ 98 244]]\n"
          ]
        }
      ]
    },
    {
      "cell_type": "code",
      "source": [
        "print(f'Acúracia: {round(accuracy_score(y_train, y_train_pred_rf), 3)}')"
      ],
      "metadata": {
        "colab": {
          "base_uri": "https://localhost:8080/"
        },
        "id": "-fVhJUIfN0bq",
        "outputId": "280cd585-1613-4055-84ee-afad4adbd229"
      },
      "execution_count": null,
      "outputs": [
        {
          "output_type": "stream",
          "name": "stdout",
          "text": [
            "Acúracia: 0.793\n"
          ]
        }
      ]
    },
    {
      "cell_type": "code",
      "source": [
        "# Modelo Random Forest\n",
        "sgd_class = SGDClassifier(random_state=12)\n",
        "\n",
        "# Previsão utilizando cross validation\n",
        "y_train_pred_sgd = cross_val_predict(sgd_class, x_train_dummie, y_train, cv=3)\n",
        "\n",
        "# Criação da matrix de confusao\n",
        "conf_mx = confusion_matrix(y_train, y_train_pred_sgd)\n",
        "\n",
        "print(conf_mx)"
      ],
      "metadata": {
        "id": "1_cdpIZNRQnX",
        "colab": {
          "base_uri": "https://localhost:8080/"
        },
        "outputId": "8ea0073b-1b48-4362-f1e2-73ef484e225c"
      },
      "execution_count": null,
      "outputs": [
        {
          "output_type": "stream",
          "name": "stdout",
          "text": [
            "[[433 116]\n",
            " [148 194]]\n"
          ]
        }
      ]
    },
    {
      "cell_type": "code",
      "source": [
        "print(f'Acúracia: {round(accuracy_score(y_train, y_train_pred_sgd), 3)}')"
      ],
      "metadata": {
        "colab": {
          "base_uri": "https://localhost:8080/"
        },
        "id": "hwuNVVUe70qW",
        "outputId": "c7b6dc43-0a5e-4fc1-92fd-6360e0e5ed87"
      },
      "execution_count": null,
      "outputs": [
        {
          "output_type": "stream",
          "name": "stdout",
          "text": [
            "Acúracia: 0.704\n"
          ]
        }
      ]
    },
    {
      "cell_type": "code",
      "source": [
        "# Modelo Random Forest\n",
        "kn_class = KNeighborsClassifier()\n",
        "\n",
        "# Previsão utilizando cross validation\n",
        "y_train_pred_kn = cross_val_predict(kn_class, x_train_dummie, y_train, cv=3)\n",
        "\n",
        "# Criação da matrix de confusao\n",
        "conf_mx = confusion_matrix(y_train, y_train_pred_kn)\n",
        "\n",
        "print(conf_mx)"
      ],
      "metadata": {
        "colab": {
          "base_uri": "https://localhost:8080/"
        },
        "id": "CtgSWdJg75sW",
        "outputId": "cd4aa984-59aa-45db-8588-a47b78e104d1"
      },
      "execution_count": null,
      "outputs": [
        {
          "output_type": "stream",
          "name": "stdout",
          "text": [
            "[[442 107]\n",
            " [158 184]]\n"
          ]
        }
      ]
    },
    {
      "cell_type": "code",
      "source": [
        "print(f'Acúracia: {round(accuracy_score(y_train, y_train_pred_kn), 3)}')"
      ],
      "metadata": {
        "id": "J5Aaj6QgCvS3",
        "outputId": "8cf844c8-24bd-4185-cc29-0a364b0f76b8",
        "colab": {
          "base_uri": "https://localhost:8080/"
        }
      },
      "execution_count": null,
      "outputs": [
        {
          "output_type": "stream",
          "name": "stdout",
          "text": [
            "Acúracia: 0.703\n"
          ]
        }
      ]
    },
    {
      "cell_type": "code",
      "source": [
        "# Dicionário de Parâmetros\n",
        "dict_param = {'n_estimators': [50, 100, 150, 250, 500, 750 ,1000],\n",
        "              'criterion': ['gini', 'entropy'],\n",
        "              'max_depth': [5, 10, 15, 25, 50, 100]\n",
        "}\n",
        "\n",
        "# Random Forest\n",
        "rf_class = RandomForestClassifier()\n",
        "\n",
        "# GridSearch e Melhores parâmetros\n",
        "clf = GridSearchCV(rf_class, dict_param, cv=5)\n",
        "clf.fit(x_train_dummie, y_train)\n",
        "\n",
        "print(clf.best_params_)"
      ],
      "metadata": {
        "id": "xvfzvkrMCz3c",
        "colab": {
          "base_uri": "https://localhost:8080/"
        },
        "outputId": "f35bdce3-036f-4a7e-e6cb-dc887b2fce43"
      },
      "execution_count": null,
      "outputs": [
        {
          "output_type": "stream",
          "name": "stdout",
          "text": [
            "{'criterion': 'gini', 'max_depth': 10, 'n_estimators': 100}\n"
          ]
        }
      ]
    },
    {
      "cell_type": "code",
      "source": [
        "# Modelo Random Forest\n",
        "rf_class = RandomForestClassifier(criterion='gini', n_estimators=100, max_depth=10)\n",
        "\n",
        "# Previsão utilizando cross validation\n",
        "y_train_pred_rf = cross_val_predict(rf_class, x_train_dummie, y_train, cv=3)\n",
        "\n",
        "# Criação da matrix de confusao\n",
        "conf_mx = confusion_matrix(y_train, y_train_pred_rf)\n",
        "\n",
        "print(conf_mx)"
      ],
      "metadata": {
        "colab": {
          "base_uri": "https://localhost:8080/"
        },
        "id": "3BDbKBuE3PQ8",
        "outputId": "5387137d-e058-4143-9cb0-0b60dd9a8579"
      },
      "execution_count": null,
      "outputs": [
        {
          "output_type": "stream",
          "name": "stdout",
          "text": [
            "[[482  67]\n",
            " [ 97 245]]\n"
          ]
        }
      ]
    },
    {
      "cell_type": "code",
      "source": [
        "print(f'Acúracia: {round(accuracy_score(y_train, y_train_pred_rf), 3)}')"
      ],
      "metadata": {
        "colab": {
          "base_uri": "https://localhost:8080/"
        },
        "id": "sgfT2csI3woa",
        "outputId": "542ba7c9-5301-4b5b-934d-e54de176afa3"
      },
      "execution_count": null,
      "outputs": [
        {
          "output_type": "stream",
          "name": "stdout",
          "text": [
            "Acúracia: 0.816\n"
          ]
        }
      ]
    }
  ],
  "metadata": {
    "colab": {
      "collapsed_sections": [
        "CXyrSW6KaoCR",
        "hXW-uEBB8GtS",
        "MQsgFYwUJiBU",
        "1_hjW4-8NI3X"
      ],
      "provenance": [],
      "mount_file_id": "1qoKJ08hOUoAkSf4pT1nmTJ9OqzVL2vyX",
      "authorship_tag": "ABX9TyN0tq2vAqJbzToszsqfIThq",
      "include_colab_link": true
    },
    "kernelspec": {
      "display_name": "Python 3",
      "name": "python3"
    },
    "language_info": {
      "name": "python"
    }
  },
  "nbformat": 4,
  "nbformat_minor": 0
}